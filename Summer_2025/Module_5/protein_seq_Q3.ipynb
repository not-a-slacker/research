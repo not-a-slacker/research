{
 "cells": [
  {
   "cell_type": "markdown",
   "metadata": {},
   "source": [
    "# Protein Secondary Structure Prediction with Recurrent Neural Networks And GRUs"
   ]
  },
  {
   "cell_type": "markdown",
   "metadata": {},
   "source": [
    "# Importing Required Libraries"
   ]
  },
  {
   "cell_type": "code",
   "execution_count": 2,
   "metadata": {},
   "outputs": [
    {
     "name": "stdout",
     "output_type": "stream",
     "text": [
      "Processing c:\\b\\abs_98xvdek9qa\\croot\\aext-assistant_1734644152369\\work (from -r requirements.txt (line 3))\n",
      "Note: you may need to restart the kernel to use updated packages.\n"
     ]
    },
    {
     "name": "stderr",
     "output_type": "stream",
     "text": [
      "ERROR: Could not install packages due to an OSError: [Errno 2] No such file or directory: 'C:\\\\b\\\\abs_98xvdek9qa\\\\croot\\\\aext-assistant_1734644152369\\\\work'\n",
      "\n"
     ]
    }
   ],
   "source": [
    "%pip install -r requirements.txt"
   ]
  },
  {
   "cell_type": "code",
   "execution_count": 40,
   "metadata": {},
   "outputs": [],
   "source": [
    "import torch\n",
    "import torch.nn as nn\n",
    "import torch.nn.functional as F\n",
    "from torch.utils import data\n",
    "import torch.utils.data as utils\n",
    "from torch.nn.utils.rnn import pad_sequence ,pack_padded_sequence,pad_packed_sequence\n",
    "\n",
    "import numpy as np\n",
    "import random\n",
    "import os\n",
    "import math\n",
    "import pickle\n",
    "import time\n",
    "import tqdm\n",
    "\n",
    "from sklearn.metrics import accuracy_score,classification_report,confusion_matrix\n",
    "\n",
    "import seaborn as sns\n",
    "\n",
    "from matplotlib import pyplot as plt\n",
    "%matplotlib inline"
   ]
  },
  {
   "cell_type": "markdown",
   "metadata": {},
   "source": [
    "### Set Random Number Initializers for Repeatability"
   ]
  },
  {
   "cell_type": "code",
   "execution_count": 5,
   "metadata": {},
   "outputs": [],
   "source": [
    "seed = 0\n",
    "random.seed(seed)\n",
    "torch.manual_seed(seed)\n",
    "np.random.seed(seed)"
   ]
  },
  {
   "cell_type": "code",
   "execution_count": 54,
   "metadata": {},
   "outputs": [],
   "source": [
    "#IMPORTANT HYPERPARAMETERS\n",
    "BATCH_SIZE = 32 # Values you can try out: 64, 128, 1\n",
    "LEARNING_RATE = 0.001 \n",
    "EPOCHS = 100\n",
    "DROPOUT = 0.2\n",
    "HIDDEN_SIZE = 128\n",
    "EMBEDDING_SIZE = 128\n",
    "NUM_LAYERS =1 # Number of layers in the RNN\n",
    "PATIENCE = 10 # Early stopping patience\n",
    "MIN_DELTA = 0.001 # Minimum change in validation acc to qualify as an improvement"
   ]
  },
  {
   "cell_type": "markdown",
   "metadata": {},
   "source": [
    "Our Targets are : \n",
    "\n",
    "'H' : α-helix , 3-helix , π-helix\n",
    "\n",
    "'E' : β-strand , β-bridge\n",
    "\n",
    "'C' : Loops and irregular elements , Turn , Bend\n",
    "\n",
    "Residue names are alphabets corresponding to different amino acids ie \"A\" --> Alanine"
   ]
  },
  {
   "cell_type": "code",
   "execution_count": 6,
   "metadata": {},
   "outputs": [],
   "source": [
    "target_names=[\"H\",\"E\",\"C\"]\n",
    "residue_names = ['A', 'C', 'E', 'D', 'G', 'F', 'I', 'H', 'K', 'M', 'L', 'N', 'Q', 'P', 'S', 'R', 'T', 'W', 'V', 'Y', 'X','NoSeq']"
   ]
  },
  {
   "cell_type": "markdown",
   "metadata": {},
   "source": [
    "#### Set device for the model to run on.\n",
    "GPU is preferred as RNNs take longer to train."
   ]
  },
  {
   "cell_type": "code",
   "execution_count": 7,
   "metadata": {},
   "outputs": [
    {
     "name": "stdout",
     "output_type": "stream",
     "text": [
      "cuda\n"
     ]
    }
   ],
   "source": [
    "device = torch.device('cuda' if torch.cuda.is_available() else 'cpu')\n",
    "print (device)\n",
    "cpu = torch.device('cpu')"
   ]
  },
  {
   "cell_type": "markdown",
   "metadata": {},
   "source": [
    "### Preprocessing the data\n",
    "First, we need to define Dataset class in pytorch which must have 3 functions : __init__(), __getitem__(), __len__().\n",
    "\n",
    "Now,our protein sequences are of different length. But, the batch we load will have fixed size. Hence, we take this size to be the size of the longest sequence in the batch and pad the shorter sequences."
   ]
  },
  {
   "cell_type": "code",
   "execution_count": 8,
   "metadata": {},
   "outputs": [],
   "source": [
    "def load_from_pkl(path):\n",
    "    with open(path, 'rb') as f:\n",
    "        var = pickle.load(f)\n",
    "    return var\n",
    "\n",
    "# class to index loaded dataset\n",
    "class Dataset(data.Dataset):\n",
    "    def __init__(self, path_to_pkl):\n",
    "        self.data = load_from_pkl(path_to_pkl)\n",
    "        self.ids = list(self.data.keys())\n",
    "\n",
    "    def __len__(self):\n",
    "        return len(self.ids)\n",
    "\n",
    "    def __getitem__(self, index):\n",
    "        id = self.ids[index]\n",
    "        dict = self.data[id]\n",
    "        seq = dict[\"sequence\"]\n",
    "        pssm = dict[\"pssm\"]\n",
    "        length = len(seq)\n",
    "        \n",
    "        secstr = dict[\"secstr\"]\n",
    "        secstr_q3 = dict[\"secstr_q3\"]\n",
    "\n",
    "        return id,seq,pssm,length,secstr,secstr_q3\n",
    "    \n",
    "# Helper Function to pad a batch of protein sequences.\n",
    "def pad_batch(DataLoaderBatch):\n",
    "    \"\"\"\n",
    "    DataLoaderBatch should be a list of (sequence, target, length) tuples...\n",
    "    Returns a padded tensor of sequences sorted from longest to shortest, \n",
    "    \"\"\"\n",
    "    batch_size = len(DataLoaderBatch)\n",
    "    batch_split = list(zip(*DataLoaderBatch))\n",
    "\n",
    "    ids, seqs, pssms, lengths, secstrs, secstrs_q3 = batch_split[0], batch_split[1], batch_split[2] ,batch_split[3], batch_split[4], batch_split[5]\n",
    "    max_length = max(lengths)\n",
    "\n",
    "    padded_seqs = np.zeros((max_length, batch_size))\n",
    "    padded_pssms = np.zeros((max_length,batch_size,22))\n",
    "    padded_secstrs = np.ones((max_length,batch_size))*30\n",
    "    padded_secstrs_q3 = np.ones((max_length,batch_size))*30\n",
    "    \n",
    "    for i, l in enumerate(lengths):\n",
    "        padded_seqs[:l,i] = seqs[i][:l] + 1\n",
    "        padded_pssms[:l,i,:] = pssms[i][:l][:]\n",
    "        padded_secstrs[:l,i] = secstrs[i][:l]\n",
    "        padded_secstrs_q3[:l,i] = secstrs_q3[i][:l]\n",
    "    return torch.tensor(padded_seqs).type(torch.LongTensor), torch.tensor(padded_pssms).type(torch.float), torch.tensor(lengths), torch.tensor(padded_secstrs).type(torch.LongTensor), torch.tensor(padded_secstrs_q3).type(torch.LongTensor)"
   ]
  },
  {
   "cell_type": "code",
   "execution_count": 10,
   "metadata": {},
   "outputs": [],
   "source": [
    "def load_from_pkl(path):\n",
    "    with open(path, 'rb') as f:\n",
    "        var = pickle.load(f)\n",
    "    return var\n",
    "var = load_from_pkl(\"./Datasets/Datasets/train.pkl\")"
   ]
  },
  {
   "cell_type": "code",
   "execution_count": 11,
   "metadata": {},
   "outputs": [
    {
     "name": "stdout",
     "output_type": "stream",
     "text": [
      "Number of H:  393620\n",
      "Number of E:  247261\n",
      "Number of C:  500345\n",
      "Max Length:  696\n",
      "[10  2  1  7 11 12 12 14 14 12 16 13 16 16 16  4  1 14  4  4  2 16 11  1\n",
      " 19  8  8 15 17 15  3  7 15  4 19 15 16  2 15  4  1  4  1 13 14 18  8 11\n",
      "  4  6  2  6 11  1  1 16 16  3 15  1 11 11]\n"
     ]
    }
   ],
   "source": [
    "len(var)\n",
    "num_0=0\n",
    "num_1=0\n",
    "num_2=0\n",
    "max_len=0\n",
    "for i in (var):\n",
    "    if len(var[i][\"secstr_q3\"]) > max_len:\n",
    "        max_len = len(var[i][\"secstr_q3\"])\n",
    "    for j in range(len(var[i][\"secstr_q3\"])):\n",
    "        if var[i][\"secstr_q3\"][j] == 0:\n",
    "            num_0+=1\n",
    "        elif var[i][\"secstr_q3\"][j] == 1:\n",
    "            num_1+=1\n",
    "        elif var[i][\"secstr_q3\"][j] == 2:\n",
    "            num_2+=1\n",
    "print(\"Number of H: \",num_0)\n",
    "print(\"Number of E: \",num_1)\n",
    "print(\"Number of C: \",num_2)\n",
    "print(\"Max Length: \",max_len)\n",
    "print(var[0][\"sequence\"])"
   ]
  },
  {
   "cell_type": "markdown",
   "metadata": {},
   "source": [
    "## Label Distribution"
   ]
  },
  {
   "cell_type": "code",
   "execution_count": 12,
   "metadata": {},
   "outputs": [
    {
     "data": {
      "image/png": "[encoded data removed]",
      "text/plain": [
       "<Figure size 640x480 with 1 Axes>"
      ]
     },
     "metadata": {},
     "output_type": "display_data"
    }
   ],
   "source": [
    "plt.bar(range(3), [num_0, num_1, num_2], tick_label=target_names)\n",
    "plt.show()"
   ]
  },
  {
   "cell_type": "markdown",
   "metadata": {},
   "source": [
    "### Load data in Pytorch Dataloaders"
   ]
  },
  {
   "cell_type": "code",
   "execution_count": 23,
   "metadata": {},
   "outputs": [],
   "source": [
    "# Load train, test and validation data\n",
    "train = Dataset(\"./Datasets/Datasets/train.pkl\")\n",
    "val = Dataset(\"./Datasets/Datasets/val.pkl\")\n",
    "test = Dataset(\"./Datasets/Datasets/test.pkl\")\n",
    "\n",
    "# Data Generators for each set.\n",
    "train_gen = data.DataLoader(train, batch_size=BATCH_SIZE, shuffle=True, collate_fn=pad_batch)\n",
    "val_gen = data.DataLoader(val, batch_size=BATCH_SIZE,shuffle=False,collate_fn=pad_batch)\n",
    "test_gen = data.DataLoader(test, batch_size=BATCH_SIZE,shuffle=False,collate_fn=pad_batch)"
   ]
  },
  {
   "cell_type": "code",
   "execution_count": 34,
   "metadata": {},
   "outputs": [
    {
     "name": "stdout",
     "output_type": "stream",
     "text": [
      "Train Batch Shape:  torch.Size([512, 32]) torch.Size([512, 32, 22]) torch.Size([32]) torch.Size([512, 32]) torch.Size([512, 32])\n"
     ]
    }
   ],
   "source": [
    "train_iter = next(iter(train_gen))\n",
    "print(\"Train Batch Shape: \", train_iter[0].shape, train_iter[1].shape, train_iter[2].shape, train_iter[3].shape, train_iter[4].shape)"
   ]
  },
  {
   "cell_type": "markdown",
   "metadata": {},
   "source": [
    "## Defining different layers of our model"
   ]
  },
  {
   "cell_type": "markdown",
   "metadata": {},
   "source": [
    "### Dense Layer\n",
    "\n",
    "This is a simple NN fully connected layer with dropout and layernorm."
   ]
  },
  {
   "cell_type": "code",
   "execution_count": null,
   "metadata": {},
   "outputs": [],
   "source": [
    "# Dense Layer\n",
    "class Dense(nn.Module):\n",
    "    def __init__(self,input_dim,output_dim,dropout = DROPOUT,normalization = True,activation = F.relu):\n",
    "        super(Dense, self).__init__()\n",
    "        self.input_dim = input_dim\n",
    "        self.output_dim = output_dim\n",
    "        self.dropout_rate = dropout\n",
    "        self.activation = activation\n",
    "        self.n_state = normalization        \n",
    "        self.linear = nn.Linear(self.input_dim,self.output_dim)\n",
    "        self.layernorm = nn.LayerNorm(self.output_dim)\n",
    "        self.dropout = nn.Dropout(p=self.dropout_rate)\n",
    "        \n",
    "    def forward(self, x):\n",
    "        x = self.linear(x)\n",
    "        x = self.activation(x)\n",
    "        if self.n_state:\n",
    "            x = self.layernorm(x)\n",
    "        x = self.dropout(x)\n",
    "        return x"
   ]
  },
  {
   "cell_type": "markdown",
   "metadata": {},
   "source": [
    "A Unidirectional RNN Layer."
   ]
  },
  {
   "cell_type": "code",
   "execution_count": 26,
   "metadata": {},
   "outputs": [],
   "source": [
    "# Unidirectional RNN\n",
    "class rnn_unidirectional(nn.Module):\n",
    "    def __init__(self,inp,out,dropout=DROPOUT,activation=F.relu):\n",
    "        super(rnn_unidirectional,self).__init__()\n",
    "        self.rnn = nn.RNN(inp,out,bidirectional=False,num_layers=NUM_LAYERS)\n",
    "        self.dropout_rate = dropout\n",
    "        self.layernorm = nn.LayerNorm(out)\n",
    "        self.activation = activation\n",
    "        self.input_dim = inp\n",
    "        self.output_dim = out\n",
    "        self.dropout = nn.Dropout(p=self.dropout_rate)\n",
    "\n",
    "    def forward(self,x,lengths):\n",
    "        x_ = pack_padded_sequence(x,lengths,enforce_sorted=False)\n",
    "        out,_ = self.rnn(x_)\n",
    "        out,_ = pad_packed_sequence(out)\n",
    "        out = self.activation(out)\n",
    "        out = self.layernorm(out)\n",
    "        if self.input_dim == 2*self.output_dim:\n",
    "            out = out+x\n",
    "        out = self.dropout(out)\n",
    "        return out"
   ]
  },
  {
   "cell_type": "markdown",
   "metadata": {},
   "source": [
    "A Bidirectional RNN Layer"
   ]
  },
  {
   "cell_type": "code",
   "execution_count": 27,
   "metadata": {},
   "outputs": [],
   "source": [
    "# Bidirectional RNN\n",
    "class rnn_bidirectional(nn.Module):\n",
    "    def __init__(self,inp,out,dropout=DROPOUT,activation=F.relu):\n",
    "        super(rnn_bidirectional,self).__init__()\n",
    "        self.rnn = nn.RNN(inp,out,bidirectional=True,num_layers=NUM_LAYERS)\n",
    "        self.dropout_rate = dropout\n",
    "        self.layernorm = nn.LayerNorm(2*out)\n",
    "        self.activation = activation\n",
    "        self.input_dim = inp\n",
    "        self.output_dim = out\n",
    "        self.dropout = nn.Dropout(p=self.dropout_rate)\n",
    "\n",
    "    def forward(self,x,lengths):\n",
    "        x_ = pack_padded_sequence(x,lengths,enforce_sorted=False)\n",
    "        out,_ = self.rnn(x_)\n",
    "        out,_ = pad_packed_sequence(out)\n",
    "        out = self.activation(out)\n",
    "        out = self.layernorm(out)\n",
    "        if self.input_dim == 2*self.output_dim:\n",
    "            out = out+x\n",
    "        out = self.dropout(out)\n",
    "        return out"
   ]
  },
  {
   "cell_type": "markdown",
   "metadata": {},
   "source": [
    "A bidirectional GRU layer."
   ]
  },
  {
   "cell_type": "code",
   "execution_count": null,
   "metadata": {},
   "outputs": [],
   "source": [
    "# Bidirectional GRU\n",
    "class gru_bidirectional(nn.Module):\n",
    "    def __init__(self,inp,out,dropout=0.1,activation=F.relu):\n",
    "        super(gru_bidirectional,self).__init__()\n",
    "        self.gru = nn.GRU(inp,out,bidirectional=True,num_layers=2)\n",
    "        self.dropout_rate = dropout\n",
    "        self.layernorm = nn.LayerNorm(2*out)\n",
    "        self.activation = activation\n",
    "        self.input_dim = inp\n",
    "        self.output_dim = out\n",
    "        self.dropout = nn.Dropout(p=self.dropout_rate)\n",
    "\n",
    "    def forward(self,x,lengths):\n",
    "        x_ = pack_padded_sequence(x,lengths,enforce_sorted=False) #as we padded our sequences while batching,this undos the padding\n",
    "        out,_ = self.gru(x_)\n",
    "        out,_ = pad_packed_sequence(out)\n",
    "        out = self.activation(out)\n",
    "        out = self.layernorm(out)\n",
    "        if self.input_dim == 2*self.output_dim:\n",
    "            out = out+x\n",
    "        out = self.dropout(out)\n",
    "        return out"
   ]
  },
  {
   "cell_type": "markdown",
   "metadata": {},
   "source": [
    "## Defining model architectures"
   ]
  },
  {
   "cell_type": "markdown",
   "metadata": {},
   "source": [
    "We define 3 different models, with a RNN(unidirectional), RNN(bidirectional) and GRU(Bidirectional) layer respectively,followed by a fully connected linear layer.\n",
    "\n",
    "In each model,we have added an embedding layer to convert one hot embedding of atom to a higher dimensional embedding. Ths is is because pssm is in floats, and hence it would be better if atom type information was also provided to model in floating point representation, also this makes the representation less sparse and the model can learn relationships between different atom types"
   ]
  },
  {
   "cell_type": "code",
   "execution_count": 86,
   "metadata": {},
   "outputs": [],
   "source": [
    "class RNN_unidir_model(nn.Module):\n",
    "    def __init__(self,embedding_count=23,embedding_dim=50,output_dim=3):\n",
    "        super(RNN_unidir_model, self).__init__()\n",
    "        self.embedding = nn.Embedding(embedding_count,embedding_dim=embedding_dim,padding_idx=0)\n",
    "        \n",
    "        self.layernorm = nn.LayerNorm(22+embedding_dim)\n",
    "        \n",
    "        #RNN layer\n",
    "        self.rnn_1 = rnn_unidirectional(22+embedding_dim,128,0.2)\n",
    "        \n",
    "        #Output layers\n",
    "        self.linear_1 = Dense(128,64)\n",
    "        self.Q3 = Dense(64,output_dim,dropout=0)\n",
    "        \n",
    "    def forward(self,x,pssm,x_lengths):\n",
    "        emb = self.embedding(x) # Convert sequence of indices to embeddings\n",
    "        emb = torch.cat([emb,pssm],dim=-1) # Concatenate PSSM features with embeddings\n",
    "\n",
    "        x_normalized = self.layernorm(emb)\n",
    "        \n",
    "        gru = self.rnn_1(x_normalized,x_lengths)\n",
    "        \n",
    "        out = self.linear_1(gru)\n",
    "        Q3 = self.Q3(out)\n",
    "        return Q3"
   ]
  },
  {
   "cell_type": "code",
   "execution_count": 87,
   "metadata": {},
   "outputs": [],
   "source": [
    "class RNN_bidirec_model(nn.Module):\n",
    "    def __init__(self,embedding_count=23,embedding_dim=5050,output_dim=3):\n",
    "        super(RNN_bidirec_model, self).__init__()\n",
    "        self.embedding = nn.Embedding(embedding_count,embedding_dim=embedding_dim,padding_idx=0)\n",
    "        \n",
    "        self.layernorm = nn.LayerNorm(22+embedding_dim)\n",
    "        \n",
    "        #RNN bidirectional layer\n",
    "        self.rnn_1 = rnn_bidirectional(22+embedding_dim,64,0.2)\n",
    "        \n",
    "        #Output layers\n",
    "        self.linear_1 = Dense(128,64)\n",
    "        self.Q3 = Dense(64,output_dim,dropout=0)\n",
    "        \n",
    "    def forward(self,x,pssm,x_lengths):\n",
    "        emb = self.embedding(x) # Convert sequence of indices to embeddings\n",
    "        emb = torch.cat([emb,pssm],dim=-1) # Concatenate PSSM features with embeddings\n",
    "\n",
    "        x_normalized = self.layernorm(emb)\n",
    "        \n",
    "        gru = self.rnn_1(x_normalized,x_lengths)\n",
    "        \n",
    "        out = self.linear_1(gru)\n",
    "        Q3 = self.Q3(out)\n",
    "        return Q3"
   ]
  },
  {
   "cell_type": "code",
   "execution_count": 88,
   "metadata": {},
   "outputs": [],
   "source": [
    "class GRU_bidirec_model(nn.Module):\n",
    "    def __init__(self,embedding_count=23,embedding_dim=50,output_dim=3):\n",
    "        super(GRU_bidirec_model, self).__init__()\n",
    "        self.embedding = nn.Embedding(embedding_count,embedding_dim=embedding_dim,padding_idx=0)\n",
    "        \n",
    "        self.layernorm = nn.LayerNorm(22+embedding_dim)\n",
    "        \n",
    "        #GRU\n",
    "        self.gru_1 = gru_bidirectional(22+embedding_dim,64,0.2)\n",
    "        \n",
    "        #Output layers\n",
    "        self.linear_1 = Dense(128,64)\n",
    "        self.Q3 = Dense(64,output_dim,dropout=0)\n",
    "        \n",
    "    def forward(self,x,pssm,x_lengths):\n",
    "        emb = self.embedding(x)\n",
    "        emb = torch.cat([emb,pssm],dim=-1)\n",
    "\n",
    "        x_normalized = self.layernorm(emb)\n",
    "        \n",
    "        gru = self.gru_1(x_normalized,x_lengths)\n",
    "        \n",
    "        out = self.linear_1(gru)\n",
    "        Q3 = self.Q3(out)\n",
    "        return Q3"
   ]
  },
  {
   "cell_type": "markdown",
   "metadata": {},
   "source": [
    "# Training Models"
   ]
  },
  {
   "cell_type": "code",
   "execution_count": 56,
   "metadata": {},
   "outputs": [],
   "source": [
    "os.makedirs(\"saved_models\", exist_ok=True) # Create directory to save models\n",
    "results_dir = {} # Dictionary to store results of different models"
   ]
  },
  {
   "cell_type": "markdown",
   "metadata": {},
   "source": [
    "### Train Epoch helper Function"
   ]
  },
  {
   "cell_type": "code",
   "execution_count": 89,
   "metadata": {},
   "outputs": [],
   "source": [
    "def train_epoch(generator,network,optimizer,criterion,task=\"Q3\"):\n",
    "    #     Set the network in to train mode\n",
    "    #     Enables dropout. \n",
    "    network.train()\n",
    "    total_loss = 0.\n",
    "    start_time = time.time() # Track training time.\n",
    "    prediction = [] #output prediction of model - vector of probabilities for each class\n",
    "    g_t = [] # ground truth labels for each sequence - actual secondary structure\n",
    "    for seq,pssm,length,q8,q3 in tqdm.tqdm(generator,desc=\"Training\"):\n",
    "        batch_size = seq.shape[1]  # Get the batch size from the shape of the sequence tensor.\n",
    "        optimizer.zero_grad()  # Make all gradients at each trainable parameter zero.\n",
    "        output = network(seq.to(device),pssm.to(device),length.to(cpu)) # Perform a forward pass\n",
    "        if task == \"Q8\":\n",
    "            loss = criterion(output.view(-1,8).to(device),q8.view(-1).to(device))  #Compute the loss function\n",
    "        else:\n",
    "            loss = criterion(output.view(-1,3).to(device),q3.view(-1).to(device))\n",
    "        loss.backward() # Perform back propagation \n",
    "        torch.nn.utils.clip_grad_norm_(network.parameters(), 0.5)  # Clip gradients to increase stability of training\n",
    "        optimizer.step()  # Perform the optimization step.\n",
    "        \n",
    "        total_loss += loss.cpu().detach().numpy()\n",
    "        \n",
    "        # store all predictions to calculate accuracy at end of epoch\n",
    "        for i in range(len(length)):\n",
    "            prediction.append(output[0:length[i],i,:].cpu().detach().numpy())\n",
    "            if task == \"Q8\":\n",
    "                g_t.append(q8[0:length[i],i].cpu().detach().numpy())\n",
    "            else:\n",
    "                g_t.append(q3[0:length[i],i].cpu().detach().numpy())\n",
    "    ave_loss = total_loss / len(generator)  # Average loss over the epoch\n",
    "    predictions = np.argmax(np.concatenate(prediction,axis=0),axis=-1)\n",
    "    g_ts = np.concatenate(g_t)\n",
    "    \n",
    "    # calculate accuracy\n",
    "    acc = accuracy_score(predictions,g_ts) \n",
    "    end_time = time.time()\n",
    "    return end_time-start_time , ave_loss, acc"
   ]
  },
  {
   "cell_type": "markdown",
   "metadata": {},
   "source": [
    "### Evaluation Epoch Helper function"
   ]
  },
  {
   "cell_type": "code",
   "execution_count": 90,
   "metadata": {},
   "outputs": [],
   "source": [
    "def evaluate(generator,network,criterion, print_acc_report=False,output_sample=False,task =\"Q3\"):\n",
    "    \n",
    "    with torch.no_grad(): # disable gradients as no optimization done during evaluation\n",
    "        network.eval()  # set network to evaluation mode to disable dropouts\n",
    "        total_loss = 0.\n",
    "        start_time = time.time() # Track evaluation time\n",
    "        prediction = []\n",
    "        g_t = []   \n",
    "        for seq,pssm,length,q8,q3 in tqdm.tqdm(generator,desc=\"Evaluating\"):\n",
    "            batch_size = seq.shape[1]  # Get the batch size from the shape of the sequence tensor.\n",
    "            #    Get predictions\n",
    "            output = network(seq.to(device),pssm.to(device),length.to(cpu))\n",
    "            \n",
    "            #    Calculate loss for analysis\n",
    "            if task == \"Q8\":\n",
    "                loss = criterion(output.view(-1,8).to(device),q8.view(-1).to(device))  #Compute the loss function\n",
    "            else:\n",
    "                loss = criterion(output.view(-1,3).to(device),q3.view(-1).to(device))        \n",
    "            total_loss += loss.cpu().detach().numpy()\n",
    "            for i in range(len(length)):\n",
    "                prediction.append(output[0:length[i],i,:].cpu().detach().numpy())\n",
    "                if task == \"Q8\":\n",
    "                    g_t.append(q8[0:length[i],i].cpu().detach().numpy())\n",
    "                else:\n",
    "                    g_t.append(q3[0:length[i],i].cpu().detach().numpy())\n",
    "        ave_loss = total_loss / len(generator)\n",
    "        #   calculate  accuracy for analysis       \n",
    "        predictions = np.argmax(np.concatenate(prediction,axis=0),axis=-1)\n",
    "        g_ts = np.concatenate(g_t)\n",
    "        acc = accuracy_score(predictions,g_ts) \n",
    "        end_time = time.time()\n",
    "        if print_acc_report:\n",
    "            print (classification_report(g_ts,predictions,target_names=target_names))\n",
    "    return end_time-start_time, ave_loss, acc"
   ]
  },
  {
   "cell_type": "markdown",
   "metadata": {},
   "source": [
    "### Train model function"
   ]
  },
  {
   "cell_type": "code",
   "execution_count": 98,
   "metadata": {},
   "outputs": [],
   "source": [
    "def train_model(network,train_gen,val_gen,optimizer,criterion,num_epochs=100,\n",
    "                patience=10, min_delta=0.001, save_best_model=True, model_save_path=\"best_model.pth\",task=\"Q3\"):\n",
    "    \"\"\"Train model for num_epochs epochs, with early stopping based on validation accuracy.\"\"\"\n",
    "    train_acc_history = []\n",
    "    val_acc_history = []\n",
    "    train_loss_history = []\n",
    "    val_loss_history = []\n",
    "\n",
    "    best_val_acc = 0.0\n",
    "    epochs_without_improvement = 0\n",
    "    best_epoch = 0\n",
    "    for i in range(num_epochs):\n",
    "        #     Train epoch\n",
    "        run_time,train_loss,train_acc = train_epoch(train_gen,network,optimizer,criterion,task=task)\n",
    "        \n",
    "        #     Validation step\n",
    "        _,val_loss,val_acc = evaluate(val_gen,network,criterion,task=task)\n",
    "        \n",
    "        #     Track performance of network during training\n",
    "        train_acc_history.append(train_acc)\n",
    "        val_acc_history.append(val_acc)\n",
    "        train_loss_history.append(train_loss)\n",
    "        val_loss_history.append(val_loss)\n",
    "\n",
    "        # Early stopping logic based on validation accuracy\n",
    "        if val_acc > best_val_acc + min_delta:\n",
    "            # Significant improvement found\n",
    "            best_val_acc = val_acc\n",
    "            epochs_without_improvement = 0\n",
    "            best_epoch = i + 1\n",
    "            \n",
    "            # Save the best model\n",
    "            if save_best_model:\n",
    "                torch.save(network.state_dict(), model_save_path)\n",
    "                \n",
    "        else:\n",
    "            # No significant improvement\n",
    "            epochs_without_improvement += 1\n",
    "            \n",
    "            if epochs_without_improvement >= patience:\n",
    "                print(f\"\\n Early stopping triggered after {i + 1} epochs!\")\n",
    "                print(f\"Best model was at epoch {best_epoch} with validation accuracy: {best_val_acc:.4f}\")\n",
    "                break\n",
    "        \n",
    "        #     Print performance metrics\n",
    "        print (\"Epoch : \"+str(i)+\", Train_loss : \"+str(train_loss)+\", Train_acc : \"+str(train_acc)+\", Val_acc : \"+ str(val_acc))\n",
    "    return train_acc_history, val_acc_history, train_loss_history, val_loss_history"
   ]
  },
  {
   "cell_type": "markdown",
   "metadata": {},
   "source": [
    "## Plotting Training Results"
   ]
  },
  {
   "cell_type": "code",
   "execution_count": 66,
   "metadata": {},
   "outputs": [],
   "source": [
    "def plot_training_results(train_acc_history, val_acc_history, train_loss_history, val_loss_history):\n",
    "    \"\"\"\n",
    "    Plot training results showing loss and accuracy vs epoch.\n",
    "    \n",
    "    Args:\n",
    "        train_acc_history: List of training accuracies per epoch\n",
    "        val_acc_history: List of validation accuracies per epoch  \n",
    "        train_loss_history: List of training losses per epoch\n",
    "        val_loss_history: List of validation losses per epoch\n",
    "    \"\"\"\n",
    "    epochs = range(1, len(train_acc_history) + 1)\n",
    "    \n",
    "    # Create subplots\n",
    "    fig, axes = plt.subplots(1, 2, figsize=(15, 5))\n",
    "    \n",
    "    # Plot accuracies\n",
    "    axes[0].plot(epochs, train_acc_history, 'b-', label='Train Accuracy', marker='o', markersize=4)\n",
    "    axes[0].plot(epochs, val_acc_history, 'r-', label='Validation Accuracy', marker='s', markersize=4)\n",
    "    axes[0].set_xlabel('Epochs')\n",
    "    axes[0].set_ylabel('Accuracy')\n",
    "    axes[0].set_title('Training and Validation Accuracy')\n",
    "    axes[0].legend()\n",
    "    axes[0].grid(True, alpha=0.3)\n",
    "    axes[0].set_ylim([0, 1])\n",
    "    \n",
    "    # Plot losses\n",
    "    axes[1].plot(epochs, train_loss_history, 'b-', label='Train Loss', marker='o', markersize=4)\n",
    "    axes[1].plot(epochs, val_loss_history, 'r-', label='Validation Loss', marker='s', markersize=4)\n",
    "    axes[1].set_xlabel('Epochs')\n",
    "    axes[1].set_ylabel('Loss')\n",
    "    axes[1].set_title('Training and Validation Loss')\n",
    "    axes[1].legend()\n",
    "    axes[1].grid(True, alpha=0.3)\n",
    "    \n",
    "    plt.tight_layout()\n",
    "    plt.show()"
   ]
  },
  {
   "cell_type": "markdown",
   "metadata": {},
   "source": [
    "## Evaluating Model"
   ]
  },
  {
   "cell_type": "code",
   "execution_count": 104,
   "metadata": {},
   "outputs": [],
   "source": [
    "def evaluate_best_model(model_class, model_path, test_gen, criterion, device, task=\"Q3\"):\n",
    "    \"\"\"\n",
    "    Load the best model and evaluate it on test set with comprehensive metrics and plots.\n",
    "    \n",
    "    Args:\n",
    "        model_class: The model class (e.g., RNN_unidir_model)\n",
    "        model_path: Path to the saved best model weights\n",
    "        test_gen: Test data generator\n",
    "        criterion: Loss function\n",
    "        device: Device to run evaluation on\n",
    "        target_names: List of class names for confusion matrix\n",
    "    \"\"\"\n",
    "    if task == \"Q8\":\n",
    "        target_names = list(range(8))  # For Q8, target names are 0-7\n",
    "    else:\n",
    "        target_names = [\"H\", \"E\", \"C\"]\n",
    "    \n",
    "    # Load the best model\n",
    "    if task == \"Q8\":\n",
    "        model = model_class(output_dim=8).to(device)\n",
    "    else:\n",
    "        model = model_class(output_dim=3).to(device)\n",
    "    model.load_state_dict(torch.load(model_path))\n",
    "    model.eval()\n",
    "  \n",
    "    # Evaluate on test set\n",
    "    with torch.no_grad():\n",
    "        total_loss = 0.\n",
    "        all_predictions = []\n",
    "        all_targets = []\n",
    "        \n",
    "        for seq, pssm, length, q8, q3 in tqdm.tqdm(test_gen, desc=\"Evaluating on test set\"):\n",
    "            batch_size = seq.shape[1]\n",
    "            \n",
    "            # Get predictions\n",
    "            output = model(seq.to(device), pssm.to(device), length.to('cpu'))\n",
    "            \n",
    "            # Calculate loss\n",
    "            if task == \"Q8\":\n",
    "                loss = criterion(output.view(-1, 8).to(device), q8.view(-1).to(device))\n",
    "            else:\n",
    "                loss = criterion(output.view(-1, 3).to(device), q3.view(-1).to(device))\n",
    "            total_loss += loss.cpu().detach().numpy() / batch_size\n",
    "            \n",
    "            # Store predictions and targets for each sequence\n",
    "            for i in range(len(length)):\n",
    "                seq_predictions = output[0:length[i], i, :].cpu().detach().numpy()\n",
    "                if task == \"Q8\":\n",
    "                    seq_targets = q8[0:length[i], i].cpu().detach().numpy()\n",
    "                else:\n",
    "                    seq_targets = q3[0:length[i], i].cpu().detach().numpy()\n",
    "                \n",
    "                all_predictions.append(seq_predictions)\n",
    "                all_targets.append(seq_targets)\n",
    "        \n",
    "        # Convert to flat arrays\n",
    "        predictions_flat = np.argmax(np.concatenate(all_predictions, axis=0), axis=-1)\n",
    "        targets_flat = np.concatenate(all_targets)\n",
    "        \n",
    "        # Calculate overall accuracy\n",
    "        test_accuracy = accuracy_score(targets_flat, predictions_flat)\n",
    "        avg_test_loss = total_loss / len(test_gen)\n",
    "    \n",
    "    # Print metrics\n",
    "    print(f\"\\nTest Results:\")\n",
    "    print(f\"  Test Loss:     {avg_test_loss:.4f}\")\n",
    "    print(f\"  Test Accuracy: {test_accuracy:.4f} ({test_accuracy*100:.2f}%)\")\n",
    "    \n",
    "    # Create confusion matrix\n",
    "    cm = confusion_matrix(targets_flat, predictions_flat)\n",
    "    \n",
    "    # Create plots\n",
    "    fig, axes = plt.subplots(1, 1, figsize=(8, 6))\n",
    "    \n",
    "    # Plot confusion matrix\n",
    "    sns.heatmap(cm, annot=True, fmt='d', cmap='Blues', \n",
    "                xticklabels=target_names, yticklabels=target_names, ax=axes)\n",
    "    axes.set_title('Confusion Matrix')\n",
    "    axes.set_xlabel('Predicted')\n",
    "    axes.set_ylabel('Actual')\n",
    " \n",
    "    \n",
    "    plt.tight_layout()\n",
    "    plt.show()\n",
    "    \n",
    "    # Calculate per-class metrics\n",
    "    print(f\"\\nPer-Class Performance:\")\n",
    "    for i, class_name in enumerate(target_names):\n",
    "        # True positives, false positives, false negatives\n",
    "        tp = cm[i, i]\n",
    "        fp = cm[:, i].sum() - tp\n",
    "        fn = cm[i, :].sum() - tp\n",
    "        \n",
    "        # Precision, Recall, F1-score\n",
    "        precision = tp / (tp + fp) if (tp + fp) > 0 else 0\n",
    "        recall = tp / (tp + fn) if (tp + fn) > 0 else 0\n",
    "        f1 = 2 * (precision * recall) / (precision + recall) if (precision + recall) > 0 else 0\n",
    "        \n",
    "        print(f\"  {class_name}: Precision={precision:.3f}, Recall={recall:.3f}, F1={f1:.3f}\")\n",
    "    \n",
    "    return {\n",
    "        'test_accuracy': test_accuracy,\n",
    "        'test_loss': avg_test_loss,\n",
    "        'confusion_matrix': cm,\n",
    "        'predictions': predictions_flat,\n",
    "        'targets': targets_flat,\n",
    "        'classification_report': classification_report(targets_flat, predictions_flat, target_names=target_names, output_dict=True,zero_division=0)\n",
    "    }"
   ]
  },
  {
   "cell_type": "markdown",
   "metadata": {},
   "source": [
    "### Train RNN Unidirectional Model"
   ]
  },
  {
   "cell_type": "code",
   "execution_count": 68,
   "metadata": {},
   "outputs": [
    {
     "name": "stdout",
     "output_type": "stream",
     "text": [
      "cuda\n"
     ]
    },
    {
     "name": "stderr",
     "output_type": "stream",
     "text": [
      "Training: 100%|██████████| 170/170 [00:08<00:00, 19.71it/s]\n",
      "Evaluating: 100%|██████████| 8/8 [00:00<00:00, 63.83it/s]\n"
     ]
    },
    {
     "name": "stdout",
     "output_type": "stream",
     "text": [
      "Epoch : 0, Train_loss : 1.0487440137302175, Train_acc : 0.4640684667191249, Val_acc : 0.49780950835632\n"
     ]
    },
    {
     "name": "stderr",
     "output_type": "stream",
     "text": [
      "Training: 100%|██████████| 170/170 [00:08<00:00, 20.65it/s]\n",
      "Evaluating: 100%|██████████| 8/8 [00:00<00:00, 65.65it/s]\n"
     ]
    },
    {
     "name": "stdout",
     "output_type": "stream",
     "text": [
      "Epoch : 1, Train_loss : 0.990739518404007, Train_acc : 0.509001722708736, Val_acc : 0.5274217102060684\n"
     ]
    },
    {
     "name": "stderr",
     "output_type": "stream",
     "text": [
      "Training: 100%|██████████| 170/170 [00:08<00:00, 20.34it/s]\n",
      "Evaluating: 100%|██████████| 8/8 [00:00<00:00, 55.72it/s]\n"
     ]
    },
    {
     "name": "stdout",
     "output_type": "stream",
     "text": [
      "Epoch : 2, Train_loss : 0.9089315687908845, Train_acc : 0.5910713565936984, Val_acc : 0.6294012656173942\n"
     ]
    },
    {
     "name": "stderr",
     "output_type": "stream",
     "text": [
      "Training: 100%|██████████| 170/170 [00:08<00:00, 20.17it/s]\n",
      "Evaluating: 100%|██████████| 8/8 [00:00<00:00, 63.77it/s]\n"
     ]
    },
    {
     "name": "stdout",
     "output_type": "stream",
     "text": [
      "Epoch : 3, Train_loss : 0.8626646097968607, Train_acc : 0.6296474142720198, Val_acc : 0.6487708907999351\n"
     ]
    },
    {
     "name": "stderr",
     "output_type": "stream",
     "text": [
      "Training: 100%|██████████| 170/170 [00:08<00:00, 20.43it/s]\n",
      "Evaluating: 100%|██████████| 8/8 [00:00<00:00, 64.68it/s]\n"
     ]
    },
    {
     "name": "stdout",
     "output_type": "stream",
     "text": [
      "Epoch : 4, Train_loss : 0.8243685392772451, Train_acc : 0.6614001083045777, Val_acc : 0.680674995943534\n"
     ]
    },
    {
     "name": "stderr",
     "output_type": "stream",
     "text": [
      "Training: 100%|██████████| 170/170 [00:08<00:00, 19.64it/s]\n",
      "Evaluating: 100%|██████████| 8/8 [00:00<00:00, 60.10it/s]\n"
     ]
    },
    {
     "name": "stdout",
     "output_type": "stream",
     "text": [
      "Epoch : 5, Train_loss : 0.8000949386288138, Train_acc : 0.6723348399002477, Val_acc : 0.671101736167451\n"
     ]
    },
    {
     "name": "stderr",
     "output_type": "stream",
     "text": [
      "Training: 100%|██████████| 170/170 [00:08<00:00, 19.79it/s]\n",
      "Evaluating: 100%|██████████| 8/8 [00:00<00:00, 55.94it/s]\n"
     ]
    },
    {
     "name": "stdout",
     "output_type": "stream",
     "text": [
      "Epoch : 6, Train_loss : 0.790960389025071, Train_acc : 0.6759782900144231, Val_acc : 0.6876723998052896\n"
     ]
    },
    {
     "name": "stderr",
     "output_type": "stream",
     "text": [
      "Training: 100%|██████████| 170/170 [00:08<00:00, 20.65it/s]\n",
      "Evaluating: 100%|██████████| 8/8 [00:00<00:00, 61.02it/s]\n"
     ]
    },
    {
     "name": "stdout",
     "output_type": "stream",
     "text": [
      "Epoch : 7, Train_loss : 0.767399433781119, Train_acc : 0.688562125293325, Val_acc : 0.7016266428687328\n"
     ]
    },
    {
     "name": "stderr",
     "output_type": "stream",
     "text": [
      "Training: 100%|██████████| 170/170 [00:08<00:00, 19.92it/s]\n",
      "Evaluating: 100%|██████████| 8/8 [00:00<00:00, 54.46it/s]\n"
     ]
    },
    {
     "name": "stdout",
     "output_type": "stream",
     "text": [
      "Epoch : 8, Train_loss : 0.7557018672718722, Train_acc : 0.6918130151258384, Val_acc : 0.7009573259776083\n"
     ]
    },
    {
     "name": "stderr",
     "output_type": "stream",
     "text": [
      "Training: 100%|██████████| 170/170 [00:08<00:00, 18.93it/s]\n",
      "Evaluating: 100%|██████████| 8/8 [00:00<00:00, 60.17it/s]\n"
     ]
    },
    {
     "name": "stdout",
     "output_type": "stream",
     "text": [
      "Epoch : 9, Train_loss : 0.74600809952792, Train_acc : 0.6941780155727262, Val_acc : 0.7032289469414247\n"
     ]
    },
    {
     "name": "stderr",
     "output_type": "stream",
     "text": [
      "Training: 100%|██████████| 170/170 [00:08<00:00, 20.54it/s]\n",
      "Evaluating: 100%|██████████| 8/8 [00:00<00:00, 60.09it/s]\n"
     ]
    },
    {
     "name": "stdout",
     "output_type": "stream",
     "text": [
      "Epoch : 10, Train_loss : 0.7327158815720503, Train_acc : 0.702884441819587, Val_acc : 0.7145667694304721\n"
     ]
    },
    {
     "name": "stderr",
     "output_type": "stream",
     "text": [
      "Training: 100%|██████████| 170/170 [00:08<00:00, 19.54it/s]\n",
      "Evaluating: 100%|██████████| 8/8 [00:00<00:00, 63.49it/s]\n"
     ]
    },
    {
     "name": "stdout",
     "output_type": "stream",
     "text": [
      "Epoch : 11, Train_loss : 0.7227903471273535, Train_acc : 0.7059215264986952, Val_acc : 0.7121531721564174\n"
     ]
    },
    {
     "name": "stderr",
     "output_type": "stream",
     "text": [
      "Training: 100%|██████████| 170/170 [00:08<00:00, 19.71it/s]\n",
      "Evaluating: 100%|██████████| 8/8 [00:00<00:00, 64.00it/s]\n"
     ]
    },
    {
     "name": "stdout",
     "output_type": "stream",
     "text": [
      "Epoch : 12, Train_loss : 0.7152172039536869, Train_acc : 0.7103860234519719, Val_acc : 0.7221117962031478\n"
     ]
    },
    {
     "name": "stderr",
     "output_type": "stream",
     "text": [
      "Training: 100%|██████████| 170/170 [00:08<00:00, 20.45it/s]\n",
      "Evaluating: 100%|██████████| 8/8 [00:00<00:00, 57.90it/s]\n"
     ]
    },
    {
     "name": "stdout",
     "output_type": "stream",
     "text": [
      "Epoch : 13, Train_loss : 0.7160146530936746, Train_acc : 0.7076600077460555, Val_acc : 0.7206717507707285\n"
     ]
    },
    {
     "name": "stderr",
     "output_type": "stream",
     "text": [
      "Training: 100%|██████████| 170/170 [00:08<00:00, 20.20it/s]\n",
      "Evaluating: 100%|██████████| 8/8 [00:00<00:00, 61.04it/s]\n"
     ]
    },
    {
     "name": "stdout",
     "output_type": "stream",
     "text": [
      "Epoch : 14, Train_loss : 0.7019728551892673, Train_acc : 0.7160553650197244, Val_acc : 0.7249513224079183\n"
     ]
    },
    {
     "name": "stderr",
     "output_type": "stream",
     "text": [
      "Training: 100%|██████████| 170/170 [00:08<00:00, 20.00it/s]\n",
      "Evaluating: 100%|██████████| 8/8 [00:00<00:00, 53.94it/s]\n"
     ]
    },
    {
     "name": "stdout",
     "output_type": "stream",
     "text": [
      "Epoch : 15, Train_loss : 0.6929378919741687, Train_acc : 0.7199984928489186, Val_acc : 0.7294742820055168\n"
     ]
    },
    {
     "name": "stderr",
     "output_type": "stream",
     "text": [
      "Training: 100%|██████████| 170/170 [00:08<00:00, 20.63it/s]\n",
      "Evaluating: 100%|██████████| 8/8 [00:00<00:00, 57.66it/s]\n"
     ]
    },
    {
     "name": "stdout",
     "output_type": "stream",
     "text": [
      "Epoch : 16, Train_loss : 0.6880765809732325, Train_acc : 0.7217369740962789, Val_acc : 0.7319690085997079\n"
     ]
    },
    {
     "name": "stderr",
     "output_type": "stream",
     "text": [
      "Training: 100%|██████████| 170/170 [00:08<00:00, 20.16it/s]\n",
      "Evaluating: 100%|██████████| 8/8 [00:00<00:00, 58.51it/s]\n"
     ]
    },
    {
     "name": "stdout",
     "output_type": "stream",
     "text": [
      "Epoch : 17, Train_loss : 0.6836864134844611, Train_acc : 0.7243928897518984, Val_acc : 0.7323949375304235\n"
     ]
    },
    {
     "name": "stderr",
     "output_type": "stream",
     "text": [
      "Training: 100%|██████████| 170/170 [00:08<00:00, 19.90it/s]\n",
      "Evaluating: 100%|██████████| 8/8 [00:00<00:00, 57.11it/s]\n"
     ]
    },
    {
     "name": "stdout",
     "output_type": "stream",
     "text": [
      "Epoch : 18, Train_loss : 0.6775154674754423, Train_acc : 0.7268393815072562, Val_acc : 0.7371410027583969\n"
     ]
    },
    {
     "name": "stderr",
     "output_type": "stream",
     "text": [
      "Training: 100%|██████████| 170/170 [00:08<00:00, 20.51it/s]\n",
      "Evaluating: 100%|██████████| 8/8 [00:00<00:00, 56.44it/s]\n"
     ]
    },
    {
     "name": "stdout",
     "output_type": "stream",
     "text": [
      "Epoch : 19, Train_loss : 0.6739414250149446, Train_acc : 0.7278400597252429, Val_acc : 0.7354372870355347\n"
     ]
    },
    {
     "name": "stderr",
     "output_type": "stream",
     "text": [
      "Training: 100%|██████████| 170/170 [00:08<00:00, 20.03it/s]\n",
      "Evaluating: 100%|██████████| 8/8 [00:00<00:00, 47.08it/s]\n"
     ]
    },
    {
     "name": "stdout",
     "output_type": "stream",
     "text": [
      "Epoch : 20, Train_loss : 0.6703135700786815, Train_acc : 0.7299360512291168, Val_acc : 0.7391692357618043\n"
     ]
    },
    {
     "name": "stderr",
     "output_type": "stream",
     "text": [
      "Training: 100%|██████████| 170/170 [00:08<00:00, 20.14it/s]\n",
      "Evaluating: 100%|██████████| 8/8 [00:00<00:00, 43.72it/s]\n"
     ]
    },
    {
     "name": "stdout",
     "output_type": "stream",
     "text": [
      "Epoch : 21, Train_loss : 0.6658303029396955, Train_acc : 0.7316123186818386, Val_acc : 0.7412988804153822\n"
     ]
    },
    {
     "name": "stderr",
     "output_type": "stream",
     "text": [
      "Training: 100%|██████████| 170/170 [00:08<00:00, 20.41it/s]\n",
      "Evaluating: 100%|██████████| 8/8 [00:00<00:00, 56.26it/s]\n"
     ]
    },
    {
     "name": "stdout",
     "output_type": "stream",
     "text": [
      "Epoch : 22, Train_loss : 0.6613510373760673, Train_acc : 0.7331466335327096, Val_acc : 0.737992860619828\n"
     ]
    },
    {
     "name": "stderr",
     "output_type": "stream",
     "text": [
      "Training: 100%|██████████| 170/170 [00:08<00:00, 19.45it/s]\n",
      "Evaluating: 100%|██████████| 8/8 [00:00<00:00, 52.63it/s]\n"
     ]
    },
    {
     "name": "stdout",
     "output_type": "stream",
     "text": [
      "Epoch : 23, Train_loss : 0.6613795809886035, Train_acc : 0.7333963649618919, Val_acc : 0.7389258478013955\n"
     ]
    },
    {
     "name": "stderr",
     "output_type": "stream",
     "text": [
      "Training: 100%|██████████| 170/170 [00:08<00:00, 20.72it/s]\n",
      "Evaluating: 100%|██████████| 8/8 [00:00<00:00, 61.50it/s]\n"
     ]
    },
    {
     "name": "stdout",
     "output_type": "stream",
     "text": [
      "Epoch : 24, Train_loss : 0.6557458972229677, Train_acc : 0.7353582901195732, Val_acc : 0.7411366217751095\n"
     ]
    },
    {
     "name": "stderr",
     "output_type": "stream",
     "text": [
      "Training: 100%|██████████| 170/170 [00:08<00:00, 20.33it/s]\n",
      "Evaluating: 100%|██████████| 8/8 [00:00<00:00, 54.97it/s]\n"
     ]
    },
    {
     "name": "stdout",
     "output_type": "stream",
     "text": [
      "Epoch : 25, Train_loss : 0.6549858931232901, Train_acc : 0.7358253317046755, Val_acc : 0.7424955378873925\n"
     ]
    },
    {
     "name": "stderr",
     "output_type": "stream",
     "text": [
      "Training: 100%|██████████| 170/170 [00:08<00:00, 19.74it/s]\n",
      "Evaluating: 100%|██████████| 8/8 [00:00<00:00, 56.74it/s]\n"
     ]
    },
    {
     "name": "stdout",
     "output_type": "stream",
     "text": [
      "Epoch : 26, Train_loss : 0.6530086086076848, Train_acc : 0.7367050873359001, Val_acc : 0.7421913029368814\n"
     ]
    },
    {
     "name": "stderr",
     "output_type": "stream",
     "text": [
      "Training: 100%|██████████| 170/170 [00:08<00:00, 19.62it/s]\n",
      "Evaluating: 100%|██████████| 8/8 [00:00<00:00, 54.93it/s]\n"
     ]
    },
    {
     "name": "stdout",
     "output_type": "stream",
     "text": [
      "Epoch : 27, Train_loss : 0.6549489904852475, Train_acc : 0.7358980605068585, Val_acc : 0.74342852506896\n"
     ]
    },
    {
     "name": "stderr",
     "output_type": "stream",
     "text": [
      "Training: 100%|██████████| 170/170 [00:08<00:00, 19.94it/s]\n",
      "Evaluating: 100%|██████████| 8/8 [00:00<00:00, 50.30it/s]\n"
     ]
    },
    {
     "name": "stdout",
     "output_type": "stream",
     "text": [
      "Epoch : 28, Train_loss : 0.6485992322949802, Train_acc : 0.738399756051825, Val_acc : 0.7416842446860296\n"
     ]
    },
    {
     "name": "stderr",
     "output_type": "stream",
     "text": [
      "Training: 100%|██████████| 170/170 [00:09<00:00, 18.48it/s]\n",
      "Evaluating: 100%|██████████| 8/8 [00:00<00:00, 49.15it/s]\n"
     ]
    },
    {
     "name": "stdout",
     "output_type": "stream",
     "text": [
      "Epoch : 29, Train_loss : 0.6464879898463979, Train_acc : 0.7390008639831199, Val_acc : 0.7422521499269836\n"
     ]
    },
    {
     "name": "stderr",
     "output_type": "stream",
     "text": [
      "Training: 100%|██████████| 170/170 [00:09<00:00, 18.47it/s]\n",
      "Evaluating: 100%|██████████| 8/8 [00:00<00:00, 45.18it/s]\n"
     ]
    },
    {
     "name": "stdout",
     "output_type": "stream",
     "text": [
      "Epoch : 30, Train_loss : 0.6438219147569993, Train_acc : 0.7404975000569562, Val_acc : 0.7449496998215155\n"
     ]
    },
    {
     "name": "stderr",
     "output_type": "stream",
     "text": [
      "Training: 100%|██████████| 170/170 [00:09<00:00, 18.32it/s]\n",
      "Evaluating: 100%|██████████| 8/8 [00:00<00:00, 52.92it/s]\n"
     ]
    },
    {
     "name": "stdout",
     "output_type": "stream",
     "text": [
      "Epoch : 31, Train_loss : 0.6448631363756516, Train_acc : 0.740036592226255, Val_acc : 0.7471807561252637\n"
     ]
    },
    {
     "name": "stderr",
     "output_type": "stream",
     "text": [
      "Training: 100%|██████████| 170/170 [00:09<00:00, 18.07it/s]\n",
      "Evaluating: 100%|██████████| 8/8 [00:00<00:00, 49.35it/s]\n"
     ]
    },
    {
     "name": "stdout",
     "output_type": "stream",
     "text": [
      "Epoch : 32, Train_loss : 0.640846403206096, Train_acc : 0.7417864647317884, Val_acc : 0.7434082427389258\n"
     ]
    },
    {
     "name": "stderr",
     "output_type": "stream",
     "text": [
      "Training: 100%|██████████| 170/170 [00:08<00:00, 19.56it/s]\n",
      "Evaluating: 100%|██████████| 8/8 [00:00<00:00, 57.68it/s]\n"
     ]
    },
    {
     "name": "stdout",
     "output_type": "stream",
     "text": [
      "Epoch : 33, Train_loss : 0.6439958379549139, Train_acc : 0.7402030798457098, Val_acc : 0.7451728054518904\n"
     ]
    },
    {
     "name": "stderr",
     "output_type": "stream",
     "text": [
      "Training: 100%|██████████| 170/170 [00:08<00:00, 20.01it/s]\n",
      "Evaluating: 100%|██████████| 8/8 [00:00<00:00, 48.47it/s]\n"
     ]
    },
    {
     "name": "stdout",
     "output_type": "stream",
     "text": [
      "Epoch : 34, Train_loss : 0.639138351468479, Train_acc : 0.7425417927737363, Val_acc : 0.7459840986532533\n"
     ]
    },
    {
     "name": "stderr",
     "output_type": "stream",
     "text": [
      "Training: 100%|██████████| 170/170 [00:09<00:00, 17.04it/s]\n",
      "Evaluating: 100%|██████████| 8/8 [00:00<00:00, 30.45it/s]\n"
     ]
    },
    {
     "name": "stdout",
     "output_type": "stream",
     "text": [
      "Epoch : 35, Train_loss : 0.6372146550346823, Train_acc : 0.7429921855968932, Val_acc : 0.7463288982638325\n"
     ]
    },
    {
     "name": "stderr",
     "output_type": "stream",
     "text": [
      "Training: 100%|██████████| 170/170 [00:10<00:00, 15.84it/s]\n",
      "Evaluating: 100%|██████████| 8/8 [00:00<00:00, 43.89it/s]\n"
     ]
    },
    {
     "name": "stdout",
     "output_type": "stream",
     "text": [
      "Epoch : 36, Train_loss : 0.6388352138154647, Train_acc : 0.7421457274895594, Val_acc : 0.7441181242901185\n"
     ]
    },
    {
     "name": "stderr",
     "output_type": "stream",
     "text": [
      "Training: 100%|██████████| 170/170 [00:10<00:00, 16.03it/s]\n",
      "Evaluating: 100%|██████████| 8/8 [00:00<00:00, 45.65it/s]\n"
     ]
    },
    {
     "name": "stdout",
     "output_type": "stream",
     "text": [
      "Epoch : 37, Train_loss : 0.6382181367453407, Train_acc : 0.7423972114199991, Val_acc : 0.7455784520525718\n"
     ]
    },
    {
     "name": "stderr",
     "output_type": "stream",
     "text": [
      "Training: 100%|██████████| 170/170 [00:10<00:00, 16.08it/s]\n",
      "Evaluating: 100%|██████████| 8/8 [00:00<00:00, 50.98it/s]\n"
     ]
    },
    {
     "name": "stdout",
     "output_type": "stream",
     "text": [
      "Epoch : 38, Train_loss : 0.6354764770059025, Train_acc : 0.7430824394116503, Val_acc : 0.7461057926334578\n"
     ]
    },
    {
     "name": "stderr",
     "output_type": "stream",
     "text": [
      "Training: 100%|██████████| 170/170 [00:10<00:00, 16.17it/s]\n",
      "Evaluating: 100%|██████████| 8/8 [00:00<00:00, 44.61it/s]\n"
     ]
    },
    {
     "name": "stdout",
     "output_type": "stream",
     "text": [
      "Epoch : 39, Train_loss : 0.635807009304271, Train_acc : 0.7429378580579131, Val_acc : 0.7428606198280059\n"
     ]
    },
    {
     "name": "stderr",
     "output_type": "stream",
     "text": [
      "Training: 100%|██████████| 170/170 [00:09<00:00, 18.43it/s]\n",
      "Evaluating: 100%|██████████| 8/8 [00:00<00:00, 61.49it/s]\n"
     ]
    },
    {
     "name": "stdout",
     "output_type": "stream",
     "text": [
      "Epoch : 40, Train_loss : 0.6342352628707886, Train_acc : 0.7438368912029695, Val_acc : 0.7462072042836281\n"
     ]
    },
    {
     "name": "stderr",
     "output_type": "stream",
     "text": [
      "Training: 100%|██████████| 170/170 [00:08<00:00, 20.20it/s]\n",
      "Evaluating: 100%|██████████| 8/8 [00:00<00:00, 55.29it/s]"
     ]
    },
    {
     "name": "stdout",
     "output_type": "stream",
     "text": [
      "\n",
      " Early stopping triggered after 42 epochs!\n",
      "Best model was at epoch 32 with validation accuracy: 0.7472\n"
     ]
    },
    {
     "name": "stderr",
     "output_type": "stream",
     "text": [
      "\n"
     ]
    }
   ],
   "source": [
    "device = torch.device('cuda' if torch.cuda.is_available() else 'cpu')\n",
    "print(device)\n",
    "rnn_model = RNN_unidir_model().to(device)\n",
    "criterion = nn.CrossEntropyLoss(ignore_index=30)\n",
    "optimizer = torch.optim.Adam(rnn_model.parameters(),lr=0.001)\n",
    "train_acc_history, val_acc_history, train_loss_history, val_loss_history = train_model(\n",
    "    rnn_model, train_gen, val_gen, optimizer, criterion, num_epochs=EPOCHS,\n",
    "    patience=PATIENCE, min_delta=MIN_DELTA, save_best_model=True, model_save_path=\"saved_models/best_rnn_model.pth\"\n",
    ")"
   ]
  },
  {
   "cell_type": "markdown",
   "metadata": {},
   "source": [
    "### Plotting training results and evaluating RNN unidirectional model"
   ]
  },
  {
   "cell_type": "code",
   "execution_count": 71,
   "metadata": {},
   "outputs": [
    {
     "data": {
      "image/png": "[encoded data removed]",
      "text/plain": [
       "<Figure size 800x600 with 2 Axes>"
      ]
     },
     "metadata": {},
     "output_type": "display_data"
    },
    {
     "data": {
      "image/png": "[encoded data removed]",
      "text/plain": [
       "<Figure size 1500x500 with 2 Axes>"
      ]
     },
     "metadata": {},
     "output_type": "display_data"
    },
    {
     "name": "stderr",
     "output_type": "stream",
     "text": [
      "Evaluating on test set: 100%|██████████| 9/9 [00:00<00:00, 26.09it/s]\n"
     ]
    },
    {
     "name": "stdout",
     "output_type": "stream",
     "text": [
      "\n",
      "Test Results:\n",
      "  Test Loss:     0.0325\n",
      "  Test Accuracy: 0.7407 (74.07%)\n",
      "\n",
      "Detailed Classification Report:\n",
      "              precision    recall  f1-score   support\n",
      "\n",
      "           H       0.78      0.78      0.78     19553\n",
      "           E       0.74      0.66      0.69     11847\n",
      "           C       0.72      0.75      0.73     23544\n",
      "\n",
      "    accuracy                           0.74     54944\n",
      "   macro avg       0.74      0.73      0.73     54944\n",
      "weighted avg       0.74      0.74      0.74     54944\n",
      "\n"
     ]
    },
    {
     "data": {
      "image/png": "[encoded data removed]",
      "text/plain": [
       "<Figure size 800x600 with 2 Axes>"
      ]
     },
     "metadata": {},
     "output_type": "display_data"
    },
    {
     "name": "stdout",
     "output_type": "stream",
     "text": [
      "\n",
      "Per-Class Performance:\n",
      "  H: Precision=0.775, Recall=0.776, F1=0.775\n",
      "  E: Precision=0.735, Recall=0.659, F1=0.695\n",
      "  C: Precision=0.716, Recall=0.753, F1=0.734\n",
      "Classification_report : \n",
      "              precision    recall  f1-score   support\n",
      "\n",
      "           H       0.78      0.78      0.78     19553\n",
      "           E       0.74      0.66      0.69     11847\n",
      "           C       0.72      0.75      0.73     23544\n",
      "\n",
      "    accuracy                           0.74     54944\n",
      "   macro avg       0.74      0.73      0.73     54944\n",
      "weighted avg       0.74      0.74      0.74     54944\n",
      "\n"
     ]
    }
   ],
   "source": [
    "# Plot training results\n",
    "plot_training_results(train_acc_history, val_acc_history, train_loss_history, val_loss_history)\n",
    "# Evaluate the best model\n",
    "results = evaluate_best_model(\n",
    "    model_class=RNN_unidir_model,\n",
    "    model_path=\"saved_models/best_rnn_model.pth\", \n",
    "    test_gen=test_gen,\n",
    "    criterion=criterion,\n",
    "    device=device,\n",
    "    target_names=target_names\n",
    ")\n",
    "results_dir[\"RNN_unidir\"] = results"
   ]
  },
  {
   "cell_type": "markdown",
   "metadata": {},
   "source": [
    "## RNN_Bidirectional Model"
   ]
  },
  {
   "cell_type": "markdown",
   "metadata": {},
   "source": [
    "Training the model"
   ]
  },
  {
   "cell_type": "code",
   "execution_count": 72,
   "metadata": {},
   "outputs": [
    {
     "name": "stderr",
     "output_type": "stream",
     "text": [
      "Training: 100%|██████████| 170/170 [00:12<00:00, 13.61it/s]\n",
      "Evaluating: 100%|██████████| 8/8 [00:00<00:00, 42.51it/s]\n"
     ]
    },
    {
     "name": "stdout",
     "output_type": "stream",
     "text": [
      "Epoch : 0, Train_loss : 1.0259205618325402, Train_acc : 0.48449737387686576, Val_acc : 0.573685705013792\n"
     ]
    },
    {
     "name": "stderr",
     "output_type": "stream",
     "text": [
      "Training: 100%|██████████| 170/170 [00:11<00:00, 15.11it/s]\n",
      "Evaluating: 100%|██████████| 8/8 [00:00<00:00, 46.44it/s]\n"
     ]
    },
    {
     "name": "stdout",
     "output_type": "stream",
     "text": [
      "Epoch : 1, Train_loss : 0.8293345279553357, Train_acc : 0.6428446249910185, Val_acc : 0.7344840175239331\n"
     ]
    },
    {
     "name": "stderr",
     "output_type": "stream",
     "text": [
      "Training: 100%|██████████| 170/170 [00:11<00:00, 15.34it/s]\n",
      "Evaluating: 100%|██████████| 8/8 [00:00<00:00, 37.31it/s]\n"
     ]
    },
    {
     "name": "stdout",
     "output_type": "stream",
     "text": [
      "Epoch : 2, Train_loss : 0.6528323201572194, Train_acc : 0.7537753258337963, Val_acc : 0.7821677754340418\n"
     ]
    },
    {
     "name": "stderr",
     "output_type": "stream",
     "text": [
      "Training: 100%|██████████| 170/170 [00:11<00:00, 15.29it/s]\n",
      "Evaluating: 100%|██████████| 8/8 [00:00<00:00, 48.35it/s]\n"
     ]
    },
    {
     "name": "stdout",
     "output_type": "stream",
     "text": [
      "Epoch : 3, Train_loss : 0.5952443652293261, Train_acc : 0.7756018527443294, Val_acc : 0.7959394775271783\n"
     ]
    },
    {
     "name": "stderr",
     "output_type": "stream",
     "text": [
      "Training: 100%|██████████| 170/170 [00:11<00:00, 15.36it/s]\n",
      "Evaluating: 100%|██████████| 8/8 [00:00<00:00, 43.95it/s]\n"
     ]
    },
    {
     "name": "stdout",
     "output_type": "stream",
     "text": [
      "Epoch : 4, Train_loss : 0.5669763761408189, Train_acc : 0.7860441314866643, Val_acc : 0.8046405971117963\n"
     ]
    },
    {
     "name": "stderr",
     "output_type": "stream",
     "text": [
      "Training: 100%|██████████| 170/170 [00:11<00:00, 14.63it/s]\n",
      "Evaluating: 100%|██████████| 8/8 [00:00<00:00, 45.81it/s]\n"
     ]
    },
    {
     "name": "stdout",
     "output_type": "stream",
     "text": [
      "Epoch : 5, Train_loss : 0.5394653343102511, Train_acc : 0.7957214434301356, Val_acc : 0.8076220996268051\n"
     ]
    },
    {
     "name": "stderr",
     "output_type": "stream",
     "text": [
      "Training: 100%|██████████| 170/170 [00:11<00:00, 15.29it/s]\n",
      "Evaluating: 100%|██████████| 8/8 [00:00<00:00, 47.34it/s]\n"
     ]
    },
    {
     "name": "stdout",
     "output_type": "stream",
     "text": [
      "Epoch : 6, Train_loss : 0.5209073310389238, Train_acc : 0.8023345069250087, Val_acc : 0.8163637838714911\n"
     ]
    },
    {
     "name": "stderr",
     "output_type": "stream",
     "text": [
      "Training: 100%|██████████| 170/170 [00:10<00:00, 15.55it/s]\n",
      "Evaluating: 100%|██████████| 8/8 [00:00<00:00, 41.30it/s]\n"
     ]
    },
    {
     "name": "stdout",
     "output_type": "stream",
     "text": [
      "Epoch : 7, Train_loss : 0.5104377893840566, Train_acc : 0.8062530997365991, Val_acc : 0.8215966250202823\n"
     ]
    },
    {
     "name": "stderr",
     "output_type": "stream",
     "text": [
      "Training: 100%|██████████| 170/170 [00:11<00:00, 15.44it/s]\n",
      "Evaluating: 100%|██████████| 8/8 [00:00<00:00, 46.87it/s]\n"
     ]
    },
    {
     "name": "stdout",
     "output_type": "stream",
     "text": [
      "Epoch : 8, Train_loss : 0.500088025191251, Train_acc : 0.8099710311542149, Val_acc : 0.8235234463735194\n"
     ]
    },
    {
     "name": "stderr",
     "output_type": "stream",
     "text": [
      "Training: 100%|██████████| 170/170 [00:11<00:00, 15.24it/s]\n",
      "Evaluating: 100%|██████████| 8/8 [00:00<00:00, 43.54it/s]\n"
     ]
    },
    {
     "name": "stdout",
     "output_type": "stream",
     "text": [
      "Epoch : 9, Train_loss : 0.4903394541319679, Train_acc : 0.8130729583798476, Val_acc : 0.8256530910270972\n"
     ]
    },
    {
     "name": "stderr",
     "output_type": "stream",
     "text": [
      "Training: 100%|██████████| 170/170 [00:11<00:00, 15.32it/s]\n",
      "Evaluating: 100%|██████████| 8/8 [00:00<00:00, 39.96it/s]\n"
     ]
    },
    {
     "name": "stdout",
     "output_type": "stream",
     "text": [
      "Epoch : 10, Train_loss : 0.4862906903028488, Train_acc : 0.8144390331100062, Val_acc : 0.8222862242414408\n"
     ]
    },
    {
     "name": "stderr",
     "output_type": "stream",
     "text": [
      "Training: 100%|██████████| 170/170 [00:11<00:00, 14.69it/s]\n",
      "Evaluating: 100%|██████████| 8/8 [00:00<00:00, 32.21it/s]\n"
     ]
    },
    {
     "name": "stdout",
     "output_type": "stream",
     "text": [
      "Epoch : 11, Train_loss : 0.4781951427459717, Train_acc : 0.8176066791327923, Val_acc : 0.8265049488885283\n"
     ]
    },
    {
     "name": "stderr",
     "output_type": "stream",
     "text": [
      "Training: 100%|██████████| 170/170 [00:11<00:00, 14.75it/s]\n",
      "Evaluating: 100%|██████████| 8/8 [00:00<00:00, 38.21it/s]\n"
     ]
    },
    {
     "name": "stdout",
     "output_type": "stream",
     "text": [
      "Epoch : 12, Train_loss : 0.47602079177604, Train_acc : 0.817912490602212, Val_acc : 0.826971442479312\n"
     ]
    },
    {
     "name": "stderr",
     "output_type": "stream",
     "text": [
      "Training: 100%|██████████| 170/170 [00:11<00:00, 14.49it/s]\n",
      "Evaluating: 100%|██████████| 8/8 [00:00<00:00, 37.21it/s]\n"
     ]
    },
    {
     "name": "stdout",
     "output_type": "stream",
     "text": [
      "Epoch : 13, Train_loss : 0.47228947667514576, Train_acc : 0.8190183188956438, Val_acc : 0.8277624533506409\n"
     ]
    },
    {
     "name": "stderr",
     "output_type": "stream",
     "text": [
      "Training: 100%|██████████| 170/170 [00:11<00:00, 15.03it/s]\n",
      "Evaluating: 100%|██████████| 8/8 [00:00<00:00, 40.52it/s]\n"
     ]
    },
    {
     "name": "stdout",
     "output_type": "stream",
     "text": [
      "Epoch : 14, Train_loss : 0.4690413485555088, Train_acc : 0.8205228412251386, Val_acc : 0.8302571799448321\n"
     ]
    },
    {
     "name": "stderr",
     "output_type": "stream",
     "text": [
      "Training: 100%|██████████| 170/170 [00:11<00:00, 15.44it/s]\n",
      "Evaluating: 100%|██████████| 8/8 [00:00<00:00, 45.30it/s]\n"
     ]
    },
    {
     "name": "stdout",
     "output_type": "stream",
     "text": [
      "Epoch : 15, Train_loss : 0.4644710172625149, Train_acc : 0.822384873811147, Val_acc : 0.8289793931526854\n"
     ]
    },
    {
     "name": "stderr",
     "output_type": "stream",
     "text": [
      "Training: 100%|██████████| 170/170 [00:11<00:00, 15.41it/s]\n",
      "Evaluating: 100%|██████████| 8/8 [00:00<00:00, 36.65it/s]\n"
     ]
    },
    {
     "name": "stdout",
     "output_type": "stream",
     "text": [
      "Epoch : 16, Train_loss : 0.462635156862876, Train_acc : 0.8231384493518374, Val_acc : 0.8307236735356158\n"
     ]
    },
    {
     "name": "stderr",
     "output_type": "stream",
     "text": [
      "Training: 100%|██████████| 170/170 [00:10<00:00, 15.68it/s]\n",
      "Evaluating: 100%|██████████| 8/8 [00:00<00:00, 46.12it/s]\n"
     ]
    },
    {
     "name": "stdout",
     "output_type": "stream",
     "text": [
      "Epoch : 17, Train_loss : 0.45972492554608513, Train_acc : 0.8239568674390524, Val_acc : 0.8327316242089892\n"
     ]
    },
    {
     "name": "stderr",
     "output_type": "stream",
     "text": [
      "Training: 100%|██████████| 170/170 [00:11<00:00, 14.84it/s]\n",
      "Evaluating: 100%|██████████| 8/8 [00:00<00:00, 46.70it/s]\n"
     ]
    },
    {
     "name": "stdout",
     "output_type": "stream",
     "text": [
      "Epoch : 18, Train_loss : 0.45765430804561164, Train_acc : 0.8243730864876896, Val_acc : 0.8320420249878306\n"
     ]
    },
    {
     "name": "stderr",
     "output_type": "stream",
     "text": [
      "Training: 100%|██████████| 170/170 [00:11<00:00, 15.33it/s]\n",
      "Evaluating: 100%|██████████| 8/8 [00:00<00:00, 36.36it/s]\n"
     ]
    },
    {
     "name": "stdout",
     "output_type": "stream",
     "text": [
      "Epoch : 19, Train_loss : 0.45445669310934406, Train_acc : 0.8254289684952849, Val_acc : 0.831332143436638\n"
     ]
    },
    {
     "name": "stderr",
     "output_type": "stream",
     "text": [
      "Training: 100%|██████████| 170/170 [00:11<00:00, 15.39it/s]\n",
      "Evaluating: 100%|██████████| 8/8 [00:00<00:00, 44.94it/s]\n"
     ]
    },
    {
     "name": "stdout",
     "output_type": "stream",
     "text": [
      "Epoch : 20, Train_loss : 0.45318626340697793, Train_acc : 0.826277179103876, Val_acc : 0.8333400941100113\n"
     ]
    },
    {
     "name": "stderr",
     "output_type": "stream",
     "text": [
      "Training: 100%|██████████| 170/170 [00:10<00:00, 15.56it/s]\n",
      "Evaluating: 100%|██████████| 8/8 [00:00<00:00, 45.09it/s]\n"
     ]
    },
    {
     "name": "stdout",
     "output_type": "stream",
     "text": [
      "Epoch : 21, Train_loss : 0.45212765546406014, Train_acc : 0.826606649340271, Val_acc : 0.833786305370761\n"
     ]
    },
    {
     "name": "stderr",
     "output_type": "stream",
     "text": [
      "Training: 100%|██████████| 170/170 [00:11<00:00, 15.16it/s]\n",
      "Evaluating: 100%|██████████| 8/8 [00:00<00:00, 41.97it/s]\n"
     ]
    },
    {
     "name": "stdout",
     "output_type": "stream",
     "text": [
      "Epoch : 22, Train_loss : 0.4490478522637311, Train_acc : 0.8275039299840697, Val_acc : 0.8345570339120558\n"
     ]
    },
    {
     "name": "stderr",
     "output_type": "stream",
     "text": [
      "Training: 100%|██████████| 170/170 [00:11<00:00, 14.68it/s]\n",
      "Evaluating: 100%|██████████| 8/8 [00:00<00:00, 47.59it/s]\n"
     ]
    },
    {
     "name": "stdout",
     "output_type": "stream",
     "text": [
      "Epoch : 23, Train_loss : 0.44710343743071834, Train_acc : 0.8284073443822696, Val_acc : 0.8362810319649522\n"
     ]
    },
    {
     "name": "stderr",
     "output_type": "stream",
     "text": [
      "Training: 100%|██████████| 170/170 [00:11<00:00, 15.29it/s]\n",
      "Evaluating: 100%|██████████| 8/8 [00:00<00:00, 44.66it/s]\n"
     ]
    },
    {
     "name": "stdout",
     "output_type": "stream",
     "text": [
      "Epoch : 24, Train_loss : 0.44541161025271697, Train_acc : 0.828868252212971, Val_acc : 0.8346787278922603\n"
     ]
    },
    {
     "name": "stderr",
     "output_type": "stream",
     "text": [
      "Training: 100%|██████████| 170/170 [00:11<00:00, 15.18it/s]\n",
      "Evaluating: 100%|██████████| 8/8 [00:00<00:00, 37.21it/s]\n"
     ]
    },
    {
     "name": "stdout",
     "output_type": "stream",
     "text": [
      "Epoch : 25, Train_loss : 0.44472064919331494, Train_acc : 0.8293615813169346, Val_acc : 0.8359159500243388\n"
     ]
    },
    {
     "name": "stderr",
     "output_type": "stream",
     "text": [
      "Training: 100%|██████████| 170/170 [00:11<00:00, 15.37it/s]\n",
      "Evaluating: 100%|██████████| 8/8 [00:00<00:00, 38.44it/s]\n"
     ]
    },
    {
     "name": "stdout",
     "output_type": "stream",
     "text": [
      "Epoch : 26, Train_loss : 0.44177707573946784, Train_acc : 0.8302974169883967, Val_acc : 0.8342933636216129\n"
     ]
    },
    {
     "name": "stderr",
     "output_type": "stream",
     "text": [
      "Training: 100%|██████████| 170/170 [00:11<00:00, 14.96it/s]\n",
      "Evaluating: 100%|██████████| 8/8 [00:00<00:00, 41.90it/s]\n"
     ]
    },
    {
     "name": "stdout",
     "output_type": "stream",
     "text": [
      "Epoch : 27, Train_loss : 0.4399839220678105, Train_acc : 0.8305778171895838, Val_acc : 0.837072042836281\n"
     ]
    },
    {
     "name": "stderr",
     "output_type": "stream",
     "text": [
      "Training: 100%|██████████| 170/170 [00:10<00:00, 15.49it/s]\n",
      "Evaluating: 100%|██████████| 8/8 [00:00<00:00, 41.77it/s]\n"
     ]
    },
    {
     "name": "stdout",
     "output_type": "stream",
     "text": [
      "Epoch : 28, Train_loss : 0.43973843823460973, Train_acc : 0.8307556960672119, Val_acc : 0.8358551030342366\n"
     ]
    },
    {
     "name": "stderr",
     "output_type": "stream",
     "text": [
      "Training: 100%|██████████| 170/170 [00:11<00:00, 15.30it/s]\n",
      "Evaluating: 100%|██████████| 8/8 [00:00<00:00, 44.14it/s]\n"
     ]
    },
    {
     "name": "stdout",
     "output_type": "stream",
     "text": [
      "Epoch : 29, Train_loss : 0.43819160671795115, Train_acc : 0.8317081805006195, Val_acc : 0.835429174103521\n"
     ]
    },
    {
     "name": "stderr",
     "output_type": "stream",
     "text": [
      "Training: 100%|██████████| 170/170 [00:10<00:00, 15.55it/s]\n",
      "Evaluating: 100%|██████████| 8/8 [00:00<00:00, 46.24it/s]\n"
     ]
    },
    {
     "name": "stdout",
     "output_type": "stream",
     "text": [
      "Epoch : 30, Train_loss : 0.43791772162213044, Train_acc : 0.8316214316883772, Val_acc : 0.8349423981827032\n"
     ]
    },
    {
     "name": "stderr",
     "output_type": "stream",
     "text": [
      "Training: 100%|██████████| 170/170 [00:10<00:00, 15.66it/s]\n",
      "Evaluating: 100%|██████████| 8/8 [00:00<00:00, 40.37it/s]\n"
     ]
    },
    {
     "name": "stdout",
     "output_type": "stream",
     "text": [
      "Epoch : 31, Train_loss : 0.4354380735579659, Train_acc : 0.8323320709482609, Val_acc : 0.8360376440045433\n"
     ]
    },
    {
     "name": "stderr",
     "output_type": "stream",
     "text": [
      "Training: 100%|██████████| 170/170 [00:10<00:00, 15.68it/s]\n",
      "Evaluating: 100%|██████████| 8/8 [00:00<00:00, 42.16it/s]\n"
     ]
    },
    {
     "name": "stdout",
     "output_type": "stream",
     "text": [
      "Epoch : 32, Train_loss : 0.4343295626780566, Train_acc : 0.832941941385843, Val_acc : 0.8387960408891774\n"
     ]
    },
    {
     "name": "stderr",
     "output_type": "stream",
     "text": [
      "Training: 100%|██████████| 170/170 [00:10<00:00, 15.48it/s]\n",
      "Evaluating: 100%|██████████| 8/8 [00:00<00:00, 45.68it/s]\n"
     ]
    },
    {
     "name": "stdout",
     "output_type": "stream",
     "text": [
      "Epoch : 33, Train_loss : 0.4339809235404519, Train_acc : 0.833401096715287, Val_acc : 0.839810157390881\n"
     ]
    },
    {
     "name": "stderr",
     "output_type": "stream",
     "text": [
      "Training: 100%|██████████| 170/170 [00:10<00:00, 15.53it/s]\n",
      "Evaluating: 100%|██████████| 8/8 [00:00<00:00, 44.28it/s]\n"
     ]
    },
    {
     "name": "stdout",
     "output_type": "stream",
     "text": [
      "Epoch : 34, Train_loss : 0.43391379223150367, Train_acc : 0.8328744700874323, Val_acc : 0.8388974525393477\n"
     ]
    },
    {
     "name": "stderr",
     "output_type": "stream",
     "text": [
      "Training: 100%|██████████| 170/170 [00:10<00:00, 15.80it/s]\n",
      "Evaluating: 100%|██████████| 8/8 [00:00<00:00, 43.35it/s]\n"
     ]
    },
    {
     "name": "stdout",
     "output_type": "stream",
     "text": [
      "Epoch : 35, Train_loss : 0.4319149103234796, Train_acc : 0.8335588218284546, Val_acc : 0.8395464871004381\n"
     ]
    },
    {
     "name": "stderr",
     "output_type": "stream",
     "text": [
      "Training: 100%|██████████| 170/170 [00:10<00:00, 15.53it/s]\n",
      "Evaluating: 100%|██████████| 8/8 [00:00<00:00, 36.89it/s]\n"
     ]
    },
    {
     "name": "stdout",
     "output_type": "stream",
     "text": [
      "Epoch : 36, Train_loss : 0.43064368980772355, Train_acc : 0.834074057198136, Val_acc : 0.8391611228297907\n"
     ]
    },
    {
     "name": "stderr",
     "output_type": "stream",
     "text": [
      "Training: 100%|██████████| 170/170 [00:11<00:00, 15.36it/s]\n",
      "Evaluating: 100%|██████████| 8/8 [00:00<00:00, 46.43it/s]\n"
     ]
    },
    {
     "name": "stdout",
     "output_type": "stream",
     "text": [
      "Epoch : 37, Train_loss : 0.4286829932647593, Train_acc : 0.8349064952954104, Val_acc : 0.840337497971767\n"
     ]
    },
    {
     "name": "stderr",
     "output_type": "stream",
     "text": [
      "Training: 100%|██████████| 170/170 [00:10<00:00, 15.66it/s]\n",
      "Evaluating: 100%|██████████| 8/8 [00:00<00:00, 38.28it/s]\n"
     ]
    },
    {
     "name": "stdout",
     "output_type": "stream",
     "text": [
      "Epoch : 38, Train_loss : 0.428586322945707, Train_acc : 0.8347785627036187, Val_acc : 0.8416152847639137\n"
     ]
    },
    {
     "name": "stderr",
     "output_type": "stream",
     "text": [
      "Training: 100%|██████████| 170/170 [00:11<00:00, 15.12it/s]\n",
      "Evaluating: 100%|██████████| 8/8 [00:00<00:00, 45.58it/s]\n"
     ]
    },
    {
     "name": "stdout",
     "output_type": "stream",
     "text": [
      "Epoch : 39, Train_loss : 0.42853713386199055, Train_acc : 0.8349573178318755, Val_acc : 0.8397290280707448\n"
     ]
    },
    {
     "name": "stderr",
     "output_type": "stream",
     "text": [
      "Training: 100%|██████████| 170/170 [00:11<00:00, 15.30it/s]\n",
      "Evaluating: 100%|██████████| 8/8 [00:00<00:00, 42.02it/s]\n"
     ]
    },
    {
     "name": "stdout",
     "output_type": "stream",
     "text": [
      "Epoch : 40, Train_loss : 0.42915821408524235, Train_acc : 0.8345822825627878, Val_acc : 0.8413718968035048\n"
     ]
    },
    {
     "name": "stderr",
     "output_type": "stream",
     "text": [
      "Training: 100%|██████████| 170/170 [00:11<00:00, 15.44it/s]\n",
      "Evaluating: 100%|██████████| 8/8 [00:00<00:00, 43.43it/s]\n"
     ]
    },
    {
     "name": "stdout",
     "output_type": "stream",
     "text": [
      "Epoch : 41, Train_loss : 0.4264562841723947, Train_acc : 0.8353446206097653, Val_acc : 0.8392219698198929\n"
     ]
    },
    {
     "name": "stderr",
     "output_type": "stream",
     "text": [
      "Training: 100%|██████████| 170/170 [00:11<00:00, 15.38it/s]\n",
      "Evaluating: 100%|██████████| 8/8 [00:00<00:00, 44.02it/s]\n"
     ]
    },
    {
     "name": "stdout",
     "output_type": "stream",
     "text": [
      "Epoch : 42, Train_loss : 0.4273052110391505, Train_acc : 0.8352236980230033, Val_acc : 0.8389380171994159\n"
     ]
    },
    {
     "name": "stderr",
     "output_type": "stream",
     "text": [
      "Training: 100%|██████████| 170/170 [00:11<00:00, 15.41it/s]\n",
      "Evaluating: 100%|██████████| 8/8 [00:00<00:00, 44.76it/s]\n"
     ]
    },
    {
     "name": "stdout",
     "output_type": "stream",
     "text": [
      "Epoch : 43, Train_loss : 0.4243119462448008, Train_acc : 0.8364469439006822, Val_acc : 0.8418383903942885\n"
     ]
    },
    {
     "name": "stderr",
     "output_type": "stream",
     "text": [
      "Training: 100%|██████████| 170/170 [00:11<00:00, 15.22it/s]\n",
      "Evaluating: 100%|██████████| 8/8 [00:00<00:00, 46.39it/s]\n"
     ]
    },
    {
     "name": "stdout",
     "output_type": "stream",
     "text": [
      "Epoch : 44, Train_loss : 0.42390410637154297, Train_acc : 0.8363698338453558, Val_acc : 0.8417572610741522\n"
     ]
    },
    {
     "name": "stderr",
     "output_type": "stream",
     "text": [
      "Training: 100%|██████████| 170/170 [00:11<00:00, 15.00it/s]\n",
      "Evaluating: 100%|██████████| 8/8 [00:00<00:00, 48.42it/s]\n"
     ]
    },
    {
     "name": "stdout",
     "output_type": "stream",
     "text": [
      "Epoch : 45, Train_loss : 0.4225812910234227, Train_acc : 0.8368316179266858, Val_acc : 0.841453026123641\n"
     ]
    },
    {
     "name": "stderr",
     "output_type": "stream",
     "text": [
      "Training: 100%|██████████| 170/170 [00:11<00:00, 15.21it/s]\n",
      "Evaluating: 100%|██████████| 8/8 [00:00<00:00, 44.58it/s]\n"
     ]
    },
    {
     "name": "stdout",
     "output_type": "stream",
     "text": [
      "Epoch : 46, Train_loss : 0.4234538179986617, Train_acc : 0.8369595505184775, Val_acc : 0.8417166964140841\n"
     ]
    },
    {
     "name": "stderr",
     "output_type": "stream",
     "text": [
      "Training: 100%|██████████| 170/170 [00:11<00:00, 15.29it/s]\n",
      "Evaluating: 100%|██████████| 8/8 [00:00<00:00, 41.45it/s]\n"
     ]
    },
    {
     "name": "stdout",
     "output_type": "stream",
     "text": [
      "Epoch : 47, Train_loss : 0.4212093051742105, Train_acc : 0.8372487132259517, Val_acc : 0.8403172156417329\n"
     ]
    },
    {
     "name": "stderr",
     "output_type": "stream",
     "text": [
      "Training: 100%|██████████| 170/170 [00:11<00:00, 15.34it/s]\n",
      "Evaluating: 100%|██████████| 8/8 [00:00<00:00, 43.83it/s]"
     ]
    },
    {
     "name": "stdout",
     "output_type": "stream",
     "text": [
      "\n",
      " Early stopping triggered after 49 epochs!\n",
      "Best model was at epoch 39 with validation accuracy: 0.8416\n"
     ]
    },
    {
     "name": "stderr",
     "output_type": "stream",
     "text": [
      "\n"
     ]
    }
   ],
   "source": [
    "rnn_bi_model = RNN_bidirec_model().to(device)\n",
    "criterion = nn.CrossEntropyLoss(ignore_index=30)\n",
    "optimizer = torch.optim.Adam(rnn_bi_model.parameters(),lr=0.001)\n",
    "train_acc_history, val_acc_history, train_loss_history, val_loss_history = train_model(\n",
    "    rnn_bi_model, train_gen, val_gen, optimizer, criterion, num_epochs=EPOCHS,\n",
    "    patience=PATIENCE, min_delta=MIN_DELTA, save_best_model=True, model_save_path=\"saved_models/best_rnn_bi_model.pth\"\n",
    ")"
   ]
  },
  {
   "cell_type": "markdown",
   "metadata": {},
   "source": [
    "Plotting graph and evaluating results"
   ]
  },
  {
   "cell_type": "code",
   "execution_count": 73,
   "metadata": {},
   "outputs": [
    {
     "data": {
      "image/png": "[encoded data removed]",
      "text/plain": [
       "<Figure size 1500x500 with 2 Axes>"
      ]
     },
     "metadata": {},
     "output_type": "display_data"
    },
    {
     "name": "stderr",
     "output_type": "stream",
     "text": [
      "Evaluating on test set: 100%|██████████| 9/9 [00:00<00:00, 41.39it/s]\n"
     ]
    },
    {
     "name": "stdout",
     "output_type": "stream",
     "text": [
      "\n",
      "Test Results:\n",
      "  Test Loss:     0.0213\n",
      "  Test Accuracy: 0.8338 (83.38%)\n",
      "\n",
      "Detailed Classification Report:\n",
      "              precision    recall  f1-score   support\n",
      "\n",
      "           H       0.88      0.90      0.89     19553\n",
      "           E       0.80      0.75      0.78     11847\n",
      "           C       0.81      0.82      0.82     23544\n",
      "\n",
      "    accuracy                           0.83     54944\n",
      "   macro avg       0.83      0.82      0.83     54944\n",
      "weighted avg       0.83      0.83      0.83     54944\n",
      "\n"
     ]
    },
    {
     "data": {
      "image/png": "[encoded data removed]",
      "text/plain": [
       "<Figure size 800x600 with 2 Axes>"
      ]
     },
     "metadata": {},
     "output_type": "display_data"
    },
    {
     "name": "stdout",
     "output_type": "stream",
     "text": [
      "\n",
      "Per-Class Performance:\n",
      "  H: Precision=0.876, Recall=0.898, F1=0.887\n",
      "  E: Precision=0.804, Recall=0.748, F1=0.775\n",
      "  C: Precision=0.812, Recall=0.823, F1=0.817\n",
      "Classification_report : \n",
      "              precision    recall  f1-score   support\n",
      "\n",
      "           H       0.88      0.90      0.89     19553\n",
      "           E       0.80      0.75      0.78     11847\n",
      "           C       0.81      0.82      0.82     23544\n",
      "\n",
      "    accuracy                           0.83     54944\n",
      "   macro avg       0.83      0.82      0.83     54944\n",
      "weighted avg       0.83      0.83      0.83     54944\n",
      "\n"
     ]
    }
   ],
   "source": [
    "# Plot training results\n",
    "plot_training_results(train_acc_history, val_acc_history, train_loss_history, val_loss_history)\n",
    "# Evaluate the best model\n",
    "results = evaluate_best_model(\n",
    "    model_class=RNN_bidirec_model,\n",
    "    model_path=\"saved_models/best_rnn_bi_model.pth\", \n",
    "    test_gen=test_gen,\n",
    "    criterion=criterion,\n",
    "    device=device,\n",
    "    target_names=target_names\n",
    ")\n",
    "results_dir[\"RNN_bidirec\"] = results"
   ]
  },
  {
   "cell_type": "markdown",
   "metadata": {},
   "source": [
    "## GRU Bidirectional Model"
   ]
  },
  {
   "cell_type": "markdown",
   "metadata": {},
   "source": [
    "Training the model"
   ]
  },
  {
   "cell_type": "code",
   "execution_count": 74,
   "metadata": {},
   "outputs": [
    {
     "name": "stderr",
     "output_type": "stream",
     "text": [
      "Training: 100%|██████████| 170/170 [00:17<00:00,  9.73it/s]\n",
      "Evaluating: 100%|██████████| 8/8 [00:00<00:00, 27.33it/s]\n"
     ]
    },
    {
     "name": "stdout",
     "output_type": "stream",
     "text": [
      "Epoch : 0, Train_loss : 0.7721497714519501, Train_acc : 0.6975489517413729, Val_acc : 0.7773608632159662\n"
     ]
    },
    {
     "name": "stderr",
     "output_type": "stream",
     "text": [
      "Training: 100%|██████████| 170/170 [00:17<00:00,  9.92it/s]\n",
      "Evaluating: 100%|██████████| 8/8 [00:00<00:00, 25.69it/s]\n"
     ]
    },
    {
     "name": "stdout",
     "output_type": "stream",
     "text": [
      "Epoch : 1, Train_loss : 0.5952764647848466, Train_acc : 0.778701151218076, Val_acc : 0.7933027746227487\n"
     ]
    },
    {
     "name": "stderr",
     "output_type": "stream",
     "text": [
      "Training: 100%|██████████| 170/170 [00:17<00:00,  9.75it/s]\n",
      "Evaluating: 100%|██████████| 8/8 [00:00<00:00, 26.94it/s]\n"
     ]
    },
    {
     "name": "stdout",
     "output_type": "stream",
     "text": [
      "Epoch : 2, Train_loss : 0.549425080243279, Train_acc : 0.7952062080604543, Val_acc : 0.8061617718643518\n"
     ]
    },
    {
     "name": "stderr",
     "output_type": "stream",
     "text": [
      "Training: 100%|██████████| 170/170 [00:17<00:00,  9.64it/s]\n",
      "Evaluating: 100%|██████████| 8/8 [00:00<00:00, 27.40it/s]\n"
     ]
    },
    {
     "name": "stdout",
     "output_type": "stream",
     "text": [
      "Epoch : 3, Train_loss : 0.5156624131342944, Train_acc : 0.8066675662839788, Val_acc : 0.8176618529936719\n"
     ]
    },
    {
     "name": "stderr",
     "output_type": "stream",
     "text": [
      "Training: 100%|██████████| 170/170 [00:17<00:00,  9.75it/s]\n",
      "Evaluating: 100%|██████████| 8/8 [00:00<00:00, 23.93it/s]\n"
     ]
    },
    {
     "name": "stdout",
     "output_type": "stream",
     "text": [
      "Epoch : 4, Train_loss : 0.4826639538302141, Train_acc : 0.8181201620012163, Val_acc : 0.824780950835632\n"
     ]
    },
    {
     "name": "stderr",
     "output_type": "stream",
     "text": [
      "Training: 100%|██████████| 170/170 [00:17<00:00,  9.79it/s]\n",
      "Evaluating: 100%|██████████| 8/8 [00:00<00:00, 27.21it/s]\n"
     ]
    },
    {
     "name": "stdout",
     "output_type": "stream",
     "text": [
      "Epoch : 5, Train_loss : 0.46262061525793635, Train_acc : 0.8241067062965618, Val_acc : 0.8300949213045594\n"
     ]
    },
    {
     "name": "stderr",
     "output_type": "stream",
     "text": [
      "Training: 100%|██████████| 170/170 [00:17<00:00,  9.59it/s]\n",
      "Evaluating: 100%|██████████| 8/8 [00:00<00:00, 27.19it/s]\n"
     ]
    },
    {
     "name": "stdout",
     "output_type": "stream",
     "text": [
      "Epoch : 6, Train_loss : 0.4455476811703514, Train_acc : 0.8290697898575742, Val_acc : 0.8351046568229759\n"
     ]
    },
    {
     "name": "stderr",
     "output_type": "stream",
     "text": [
      "Training: 100%|██████████| 170/170 [00:17<00:00,  9.78it/s]\n",
      "Evaluating: 100%|██████████| 8/8 [00:00<00:00, 27.88it/s]\n"
     ]
    },
    {
     "name": "stdout",
     "output_type": "stream",
     "text": [
      "Epoch : 7, Train_loss : 0.4311758756637573, Train_acc : 0.8337095369365928, Val_acc : 0.8366258315755314\n"
     ]
    },
    {
     "name": "stderr",
     "output_type": "stream",
     "text": [
      "Training: 100%|██████████| 170/170 [00:17<00:00,  9.82it/s]\n",
      "Evaluating: 100%|██████████| 8/8 [00:00<00:00, 28.21it/s]\n"
     ]
    },
    {
     "name": "stdout",
     "output_type": "stream",
     "text": [
      "Epoch : 8, Train_loss : 0.42283837672542124, Train_acc : 0.8364828701764594, Val_acc : 0.8388974525393477\n"
     ]
    },
    {
     "name": "stderr",
     "output_type": "stream",
     "text": [
      "Training: 100%|██████████| 170/170 [00:17<00:00,  9.85it/s]\n",
      "Evaluating: 100%|██████████| 8/8 [00:00<00:00, 26.76it/s]\n"
     ]
    },
    {
     "name": "stdout",
     "output_type": "stream",
     "text": [
      "Epoch : 9, Train_loss : 0.4165365285733167, Train_acc : 0.838709423024011, Val_acc : 0.8376805127373033\n"
     ]
    },
    {
     "name": "stderr",
     "output_type": "stream",
     "text": [
      "Training: 100%|██████████| 170/170 [00:17<00:00,  9.80it/s]\n",
      "Evaluating: 100%|██████████| 8/8 [00:00<00:00, 24.46it/s]\n"
     ]
    },
    {
     "name": "stdout",
     "output_type": "stream",
     "text": [
      "Epoch : 10, Train_loss : 0.4098279868855196, Train_acc : 0.8409280896159043, Val_acc : 0.8418789550543566\n"
     ]
    },
    {
     "name": "stderr",
     "output_type": "stream",
     "text": [
      "Training: 100%|██████████| 170/170 [00:17<00:00,  9.61it/s]\n",
      "Evaluating: 100%|██████████| 8/8 [00:00<00:00, 27.14it/s]\n"
     ]
    },
    {
     "name": "stdout",
     "output_type": "stream",
     "text": [
      "Epoch : 11, Train_loss : 0.4042386054992676, Train_acc : 0.842855840999066, Val_acc : 0.843623235437287\n"
     ]
    },
    {
     "name": "stderr",
     "output_type": "stream",
     "text": [
      "Training: 100%|██████████| 170/170 [00:17<00:00,  9.67it/s]\n",
      "Evaluating: 100%|██████████| 8/8 [00:00<00:00, 25.19it/s]\n"
     ]
    },
    {
     "name": "stdout",
     "output_type": "stream",
     "text": [
      "Epoch : 12, Train_loss : 0.39693421633804543, Train_acc : 0.8457308193118629, Val_acc : 0.8451849748499107\n"
     ]
    },
    {
     "name": "stderr",
     "output_type": "stream",
     "text": [
      "Training: 100%|██████████| 170/170 [00:17<00:00,  9.91it/s]\n",
      "Evaluating: 100%|██████████| 8/8 [00:00<00:00, 27.39it/s]\n"
     ]
    },
    {
     "name": "stdout",
     "output_type": "stream",
     "text": [
      "Epoch : 13, Train_loss : 0.39270742395344904, Train_acc : 0.8470101452297792, Val_acc : 0.8460976797014441\n"
     ]
    },
    {
     "name": "stderr",
     "output_type": "stream",
     "text": [
      "Training: 100%|██████████| 170/170 [00:17<00:00,  9.85it/s]\n",
      "Evaluating: 100%|██████████| 8/8 [00:00<00:00, 26.04it/s]\n"
     ]
    },
    {
     "name": "stdout",
     "output_type": "stream",
     "text": [
      "Epoch : 14, Train_loss : 0.38882854388040655, Train_acc : 0.8482807086414085, Val_acc : 0.843623235437287\n"
     ]
    },
    {
     "name": "stderr",
     "output_type": "stream",
     "text": [
      "Training: 100%|██████████| 170/170 [00:17<00:00,  9.87it/s]\n",
      "Evaluating: 100%|██████████| 8/8 [00:00<00:00, 27.28it/s]\n"
     ]
    },
    {
     "name": "stdout",
     "output_type": "stream",
     "text": [
      "Epoch : 15, Train_loss : 0.3843236425343682, Train_acc : 0.8500016648761946, Val_acc : 0.8443128346584455\n"
     ]
    },
    {
     "name": "stderr",
     "output_type": "stream",
     "text": [
      "Training: 100%|██████████| 170/170 [00:17<00:00,  9.78it/s]\n",
      "Evaluating: 100%|██████████| 8/8 [00:00<00:00, 26.92it/s]\n"
     ]
    },
    {
     "name": "stdout",
     "output_type": "stream",
     "text": [
      "Epoch : 16, Train_loss : 0.3795914614901823, Train_acc : 0.8520713688612072, Val_acc : 0.8467061496024664\n"
     ]
    },
    {
     "name": "stderr",
     "output_type": "stream",
     "text": [
      "Training: 100%|██████████| 170/170 [00:17<00:00,  9.89it/s]\n",
      "Evaluating: 100%|██████████| 8/8 [00:00<00:00, 23.47it/s]\n"
     ]
    },
    {
     "name": "stdout",
     "output_type": "stream",
     "text": [
      "Epoch : 17, Train_loss : 0.3758617309963002, Train_acc : 0.8532902334857425, Val_acc : 0.8483490183352264\n"
     ]
    },
    {
     "name": "stderr",
     "output_type": "stream",
     "text": [
      "Training: 100%|██████████| 170/170 [00:17<00:00,  9.67it/s]\n",
      "Evaluating: 100%|██████████| 8/8 [00:00<00:00, 28.65it/s]\n"
     ]
    },
    {
     "name": "stdout",
     "output_type": "stream",
     "text": [
      "Epoch : 18, Train_loss : 0.37091019679518306, Train_acc : 0.8551531423223796, Val_acc : 0.8487546649359078\n"
     ]
    },
    {
     "name": "stderr",
     "output_type": "stream",
     "text": [
      "Training: 100%|██████████| 170/170 [00:17<00:00,  9.91it/s]\n",
      "Evaluating: 100%|██████████| 8/8 [00:00<00:00, 27.17it/s]\n"
     ]
    },
    {
     "name": "stdout",
     "output_type": "stream",
     "text": [
      "Epoch : 19, Train_loss : 0.366471510774949, Train_acc : 0.8565884408522063, Val_acc : 0.8491197468765211\n"
     ]
    },
    {
     "name": "stderr",
     "output_type": "stream",
     "text": [
      "Training: 100%|██████████| 170/170 [00:17<00:00,  9.77it/s]\n",
      "Evaluating: 100%|██████████| 8/8 [00:00<00:00, 27.48it/s]\n"
     ]
    },
    {
     "name": "stdout",
     "output_type": "stream",
     "text": [
      "Epoch : 20, Train_loss : 0.3641495895736358, Train_acc : 0.8569801248832396, Val_acc : 0.8502149926983612\n"
     ]
    },
    {
     "name": "stderr",
     "output_type": "stream",
     "text": [
      "Training: 100%|██████████| 170/170 [00:17<00:00,  9.60it/s]\n",
      "Evaluating: 100%|██████████| 8/8 [00:00<00:00, 26.18it/s]\n"
     ]
    },
    {
     "name": "stdout",
     "output_type": "stream",
     "text": [
      "Epoch : 21, Train_loss : 0.3591115430873983, Train_acc : 0.8587895824315254, Val_acc : 0.8496876521174752\n"
     ]
    },
    {
     "name": "stderr",
     "output_type": "stream",
     "text": [
      "Training: 100%|██████████| 170/170 [00:17<00:00,  9.80it/s]\n",
      "Evaluating: 100%|██████████| 8/8 [00:00<00:00, 27.00it/s]\n"
     ]
    },
    {
     "name": "stdout",
     "output_type": "stream",
     "text": [
      "Epoch : 22, Train_loss : 0.3561875653617522, Train_acc : 0.8602424059739263, Val_acc : 0.8480447833847152\n"
     ]
    },
    {
     "name": "stderr",
     "output_type": "stream",
     "text": [
      "Training: 100%|██████████| 170/170 [00:17<00:00,  9.69it/s]\n",
      "Evaluating: 100%|██████████| 8/8 [00:00<00:00, 27.55it/s]\n"
     ]
    },
    {
     "name": "stdout",
     "output_type": "stream",
     "text": [
      "Epoch : 23, Train_loss : 0.3537444070858114, Train_acc : 0.8609819615045574, Val_acc : 0.8503164043485315\n"
     ]
    },
    {
     "name": "stderr",
     "output_type": "stream",
     "text": [
      "Training: 100%|██████████| 170/170 [00:17<00:00,  9.84it/s]\n",
      "Evaluating: 100%|██████████| 8/8 [00:00<00:00, 25.10it/s]\n"
     ]
    },
    {
     "name": "stdout",
     "output_type": "stream",
     "text": [
      "Epoch : 24, Train_loss : 0.3499453099334941, Train_acc : 0.8622691736781322, Val_acc : 0.8502961220184975\n"
     ]
    },
    {
     "name": "stderr",
     "output_type": "stream",
     "text": [
      "Training: 100%|██████████| 170/170 [00:17<00:00,  9.90it/s]\n",
      "Evaluating: 100%|██████████| 8/8 [00:00<00:00, 26.89it/s]\n"
     ]
    },
    {
     "name": "stdout",
     "output_type": "stream",
     "text": [
      "Epoch : 25, Train_loss : 0.3459772113491507, Train_acc : 0.8633890219816233, Val_acc : 0.8480650657147493\n"
     ]
    },
    {
     "name": "stderr",
     "output_type": "stream",
     "text": [
      "Training: 100%|██████████| 170/170 [00:17<00:00,  9.61it/s]\n",
      "Evaluating: 100%|██████████| 8/8 [00:00<00:00, 27.27it/s]\n"
     ]
    },
    {
     "name": "stdout",
     "output_type": "stream",
     "text": [
      "Epoch : 26, Train_loss : 0.34330673971596887, Train_acc : 0.8646332978743912, Val_acc : 0.8510668505597923\n"
     ]
    },
    {
     "name": "stderr",
     "output_type": "stream",
     "text": [
      "Training: 100%|██████████| 170/170 [00:17<00:00,  9.73it/s]\n",
      "Evaluating: 100%|██████████| 8/8 [00:00<00:00, 23.44it/s]\n"
     ]
    },
    {
     "name": "stdout",
     "output_type": "stream",
     "text": [
      "Epoch : 27, Train_loss : 0.34019497054464676, Train_acc : 0.8659213862985947, Val_acc : 0.8487546649359078\n"
     ]
    },
    {
     "name": "stderr",
     "output_type": "stream",
     "text": [
      "Training: 100%|██████████| 170/170 [00:17<00:00,  9.89it/s]\n",
      "Evaluating: 100%|██████████| 8/8 [00:00<00:00, 26.06it/s]\n"
     ]
    },
    {
     "name": "stdout",
     "output_type": "stream",
     "text": [
      "Epoch : 28, Train_loss : 0.336264905333519, Train_acc : 0.867152518431932, Val_acc : 0.8498093460976797\n"
     ]
    },
    {
     "name": "stderr",
     "output_type": "stream",
     "text": [
      "Training: 100%|██████████| 170/170 [00:17<00:00,  9.99it/s]\n",
      "Evaluating: 100%|██████████| 8/8 [00:00<00:00, 27.58it/s]\n"
     ]
    },
    {
     "name": "stdout",
     "output_type": "stream",
     "text": [
      "Epoch : 29, Train_loss : 0.3355870693922043, Train_acc : 0.8676677538016133, Val_acc : 0.8511682622099627\n"
     ]
    },
    {
     "name": "stderr",
     "output_type": "stream",
     "text": [
      "Training: 100%|██████████| 170/170 [00:17<00:00,  9.89it/s]\n",
      "Evaluating: 100%|██████████| 8/8 [00:00<00:00, 28.02it/s]"
     ]
    },
    {
     "name": "stdout",
     "output_type": "stream",
     "text": [
      "\n",
      " Early stopping triggered after 31 epochs!\n",
      "Best model was at epoch 21 with validation accuracy: 0.8502\n"
     ]
    },
    {
     "name": "stderr",
     "output_type": "stream",
     "text": [
      "\n"
     ]
    }
   ],
   "source": [
    "gru_model = GRU_bidirec_model().to(device)\n",
    "criterion = nn.CrossEntropyLoss(ignore_index=30)\n",
    "optimizer = torch.optim.Adam(gru_model.parameters(),lr=0.001)\n",
    "train_acc_history, val_acc_history, train_loss_history, val_loss_history = train_model(\n",
    "    gru_model, train_gen, val_gen, optimizer, criterion, num_epochs=EPOCHS,\n",
    "    patience=PATIENCE, min_delta=MIN_DELTA, save_best_model=True, model_save_path=\"saved_models/best_gru_model.pth\"\n",
    ")"
   ]
  },
  {
   "cell_type": "markdown",
   "metadata": {},
   "source": [
    "Plotting and Evaluating results"
   ]
  },
  {
   "cell_type": "code",
   "execution_count": 75,
   "metadata": {},
   "outputs": [
    {
     "data": {
      "image/png": "[encoded data removed]",
      "text/plain": [
       "<Figure size 1500x500 with 2 Axes>"
      ]
     },
     "metadata": {},
     "output_type": "display_data"
    },
    {
     "name": "stderr",
     "output_type": "stream",
     "text": [
      "Evaluating on test set: 100%|██████████| 9/9 [00:00<00:00, 24.05it/s]\n"
     ]
    },
    {
     "name": "stdout",
     "output_type": "stream",
     "text": [
      "\n",
      "Test Results:\n",
      "  Test Loss:     0.0197\n",
      "  Test Accuracy: 0.8434 (84.34%)\n",
      "\n",
      "Detailed Classification Report:\n",
      "              precision    recall  f1-score   support\n",
      "\n",
      "           H       0.89      0.90      0.89     19553\n",
      "           E       0.82      0.76      0.79     11847\n",
      "           C       0.82      0.84      0.83     23544\n",
      "\n",
      "    accuracy                           0.84     54944\n",
      "   macro avg       0.84      0.83      0.84     54944\n",
      "weighted avg       0.84      0.84      0.84     54944\n",
      "\n"
     ]
    },
    {
     "data": {
      "image/png": "[encoded data removed]",
      "text/plain": [
       "<Figure size 800x600 with 2 Axes>"
      ]
     },
     "metadata": {},
     "output_type": "display_data"
    },
    {
     "name": "stdout",
     "output_type": "stream",
     "text": [
      "\n",
      "Per-Class Performance:\n",
      "  H: Precision=0.886, Recall=0.902, F1=0.894\n",
      "  E: Precision=0.818, Recall=0.763, F1=0.789\n",
      "  C: Precision=0.820, Recall=0.836, F1=0.828\n",
      "Classification_report : \n",
      "              precision    recall  f1-score   support\n",
      "\n",
      "           H       0.89      0.90      0.89     19553\n",
      "           E       0.82      0.76      0.79     11847\n",
      "           C       0.82      0.84      0.83     23544\n",
      "\n",
      "    accuracy                           0.84     54944\n",
      "   macro avg       0.84      0.83      0.84     54944\n",
      "weighted avg       0.84      0.84      0.84     54944\n",
      "\n"
     ]
    }
   ],
   "source": [
    "# Plot training results\n",
    "plot_training_results(train_acc_history, val_acc_history, train_loss_history, val_loss_history)\n",
    "# Evaluate the best model\n",
    "results = evaluate_best_model(\n",
    "    model_class=GRU_bidirec_model,\n",
    "    model_path=\"saved_models/best_gru_model.pth\", \n",
    "    test_gen=test_gen,\n",
    "    criterion=criterion,\n",
    "    device=device,\n",
    "    target_names=target_names\n",
    ")\n",
    "results_dir[\"GRU_bidirec\"] = results"
   ]
  },
  {
   "cell_type": "markdown",
   "metadata": {},
   "source": [
    "## Comparing Results"
   ]
  },
  {
   "cell_type": "code",
   "execution_count": 85,
   "metadata": {},
   "outputs": [
    {
     "data": {
      "image/png": "[encoded data removed]",
      "text/plain": [
       "<Figure size 1200x600 with 1 Axes>"
      ]
     },
     "metadata": {},
     "output_type": "display_data"
    },
    {
     "data": {
      "image/png": "[encoded data removed]",
      "text/plain": [
       "<Figure size 1000x800 with 2 Axes>"
      ]
     },
     "metadata": {},
     "output_type": "display_data"
    },
    {
     "data": {
      "image/png": "[encoded data removed]",
      "text/plain": [
       "<Figure size 1000x800 with 2 Axes>"
      ]
     },
     "metadata": {},
     "output_type": "display_data"
    },
    {
     "data": {
      "image/png": "[encoded data removed]",
      "text/plain": [
       "<Figure size 1000x800 with 2 Axes>"
      ]
     },
     "metadata": {},
     "output_type": "display_data"
    }
   ],
   "source": [
    "model_names = list(results_dir.keys())\n",
    "num_models = len(model_names)\n",
    "\n",
    "# Extract test accuracies\n",
    "test_accuracies = [results_dir[model]['test_accuracy'] for model in model_names]\n",
    "\n",
    "# Create figure with subplots\n",
    "\n",
    "\n",
    "# 1. Test Accuracy Comparison Bar Plot\n",
    "plt.figure(figsize=(12, 6))\n",
    "bars = plt.bar(range(num_models), test_accuracies, \n",
    "                color=['skyblue', 'lightcoral', 'lightgreen'][:num_models],\n",
    "                edgecolor='black', linewidth=1.5)\n",
    "\n",
    "# Add value labels on bars\n",
    "for i, (bar, acc) in enumerate(zip(bars, test_accuracies)):\n",
    "    plt.text(bar.get_x() + bar.get_width()/2, bar.get_height() + 0.01,\n",
    "            f'{acc:.3f}', ha='center', va='bottom', fontweight='bold', fontsize=12)\n",
    "\n",
    "plt.xlabel('Models', fontsize=12, fontweight='bold')\n",
    "plt.ylabel('Test Accuracy', fontsize=12, fontweight='bold')\n",
    "plt.title('Test Accuracy Comparison', fontsize=14, fontweight='bold')\n",
    "plt.xticks(range(num_models), model_names, rotation=45, ha='right')\n",
    "plt.ylim(0, 1)\n",
    "plt.grid(axis='y', alpha=0.3)\n",
    "plt.show()\n",
    "\n",
    "# 2. Confusion Matrices for each model\n",
    "for i, model_name in enumerate(model_names):\n",
    "    cm = results_dir[model_name]['confusion_matrix']\n",
    "    test_acc = results_dir[model_name]['test_accuracy']\n",
    "    \n",
    "    # Raw confusion matrix\n",
    "    plt.figure(figsize=(10, 8))\n",
    "    sns.heatmap(cm, annot=True, fmt='d', cmap='Blues',\n",
    "                xticklabels=target_names, yticklabels=target_names,\n",
    "                cbar=True, square=True)\n",
    "    plt.title(f'{model_name}\\nAcc: {test_acc:.3f}', fontsize=12, fontweight='bold')\n",
    "    plt.xlabel('Predicted', fontsize=10)\n",
    "    plt.ylabel('Actual', fontsize=10)\n",
    "    plt.show()\n"
   ]
  },
  {
   "cell_type": "markdown",
   "metadata": {},
   "source": [
    "# Q8 Task"
   ]
  },
  {
   "cell_type": "markdown",
   "metadata": {},
   "source": [
    "From our previous results, we can see that the bidirectional GRU had the best performance.\n",
    "\n",
    "However,in previous section we just used q3 labels('H','E','C'),however dataset also contains q8 labels.(8 different types of secondary structure).\n",
    "\n",
    "Lets see how well our model performs on Q8 secondary structure prediction task."
   ]
  },
  {
   "cell_type": "markdown",
   "metadata": {},
   "source": [
    "First, lets see distribution of labels in Q8 task ."
   ]
  },
  {
   "cell_type": "code",
   "execution_count": 77,
   "metadata": {},
   "outputs": [
    {
     "data": {
      "image/png": "[encoded data removed]",
      "text/plain": [
       "<Figure size 640x480 with 1 Axes>"
      ]
     },
     "metadata": {},
     "output_type": "display_data"
    }
   ],
   "source": [
    "q8_label_count =[0] * 8\n",
    "for i in var:\n",
    "    for j in var[i][\"secstr\"]:\n",
    "        if j < 8:\n",
    "            q8_label_count[j] += 1\n",
    "plt.bar(range(8), q8_label_count, tick_label=range(8))\n",
    "plt.xlabel('Q8 Labels')\n",
    "plt.ylabel('Count')\n",
    "plt.title('Distribution of Q8 Labels')\n",
    "plt.show()"
   ]
  },
  {
   "cell_type": "markdown",
   "metadata": {},
   "source": [
    "We have very little data on 1,4,6,7 so model will probably struggle with those labels. Lets see if our hypothesis is true."
   ]
  },
  {
   "cell_type": "markdown",
   "metadata": {},
   "source": [
    "### Training the model"
   ]
  },
  {
   "cell_type": "code",
   "execution_count": 99,
   "metadata": {},
   "outputs": [
    {
     "name": "stderr",
     "output_type": "stream",
     "text": [
      "Training: 100%|██████████| 170/170 [00:17<00:00,  9.80it/s]\n",
      "Evaluating: 100%|██████████| 8/8 [00:00<00:00, 27.12it/s]\n"
     ]
    },
    {
     "name": "stdout",
     "output_type": "stream",
     "text": [
      "Epoch : 0, Train_loss : 1.2760368157835569, Train_acc : 0.5538254473697585, Val_acc : 0.634005354535129\n"
     ]
    },
    {
     "name": "stderr",
     "output_type": "stream",
     "text": [
      "Training: 100%|██████████| 170/170 [00:16<00:00, 10.09it/s]\n",
      "Evaluating: 100%|██████████| 8/8 [00:00<00:00, 26.09it/s]\n"
     ]
    },
    {
     "name": "stdout",
     "output_type": "stream",
     "text": [
      "Epoch : 1, Train_loss : 1.060623485551161, Train_acc : 0.6330341229519832, Val_acc : 0.6548758721401915\n"
     ]
    },
    {
     "name": "stderr",
     "output_type": "stream",
     "text": [
      "Training: 100%|██████████| 170/170 [00:17<00:00,  9.91it/s]\n",
      "Evaluating: 100%|██████████| 8/8 [00:00<00:00, 28.27it/s]\n"
     ]
    },
    {
     "name": "stdout",
     "output_type": "stream",
     "text": [
      "Epoch : 2, Train_loss : 0.979671466701171, Train_acc : 0.6564808372750007, Val_acc : 0.6686070095732598\n"
     ]
    },
    {
     "name": "stderr",
     "output_type": "stream",
     "text": [
      "Training: 100%|██████████| 170/170 [00:18<00:00,  9.36it/s]\n",
      "Evaluating: 100%|██████████| 8/8 [00:00<00:00, 27.95it/s]\n"
     ]
    },
    {
     "name": "stdout",
     "output_type": "stream",
     "text": [
      "Epoch : 3, Train_loss : 0.9279049249256358, Train_acc : 0.6713324091810036, Val_acc : 0.6811212072042836\n"
     ]
    },
    {
     "name": "stderr",
     "output_type": "stream",
     "text": [
      "Training: 100%|██████████| 170/170 [00:16<00:00, 10.04it/s]\n",
      "Evaluating: 100%|██████████| 8/8 [00:00<00:00, 29.31it/s]\n"
     ]
    },
    {
     "name": "stdout",
     "output_type": "stream",
     "text": [
      "Epoch : 4, Train_loss : 0.8890778481960296, Train_acc : 0.682323220816911, Val_acc : 0.6889907512575044\n"
     ]
    },
    {
     "name": "stderr",
     "output_type": "stream",
     "text": [
      "Training: 100%|██████████| 170/170 [00:17<00:00,  9.96it/s]\n",
      "Evaluating: 100%|██████████| 8/8 [00:00<00:00, 28.00it/s]\n"
     ]
    },
    {
     "name": "stdout",
     "output_type": "stream",
     "text": [
      "Epoch : 5, Train_loss : 0.8654686412390541, Train_acc : 0.6891229256956992, Val_acc : 0.694608956676943\n"
     ]
    },
    {
     "name": "stderr",
     "output_type": "stream",
     "text": [
      "Training: 100%|██████████| 170/170 [00:17<00:00,  9.86it/s]\n",
      "Evaluating: 100%|██████████| 8/8 [00:00<00:00, 28.76it/s]\n"
     ]
    },
    {
     "name": "stdout",
     "output_type": "stream",
     "text": [
      "Epoch : 6, Train_loss : 0.849328296324786, Train_acc : 0.6942376006154785, Val_acc : 0.6985437287035534\n"
     ]
    },
    {
     "name": "stderr",
     "output_type": "stream",
     "text": [
      "Training: 100%|██████████| 170/170 [00:16<00:00, 10.03it/s]\n",
      "Evaluating: 100%|██████████| 8/8 [00:00<00:00, 28.21it/s]\n"
     ]
    },
    {
     "name": "stdout",
     "output_type": "stream",
     "text": [
      "Epoch : 7, Train_loss : 0.8361526170197655, Train_acc : 0.6982744872619446, Val_acc : 0.7022959597598573\n"
     ]
    },
    {
     "name": "stderr",
     "output_type": "stream",
     "text": [
      "Training: 100%|██████████| 170/170 [00:16<00:00, 10.05it/s]\n",
      "Evaluating: 100%|██████████| 8/8 [00:00<00:00, 28.81it/s]\n"
     ]
    },
    {
     "name": "stdout",
     "output_type": "stream",
     "text": [
      "Epoch : 8, Train_loss : 0.8253851936143988, Train_acc : 0.701719028483403, Val_acc : 0.6994564335550868\n"
     ]
    },
    {
     "name": "stderr",
     "output_type": "stream",
     "text": [
      "Training: 100%|██████████| 170/170 [00:16<00:00, 10.04it/s]\n",
      "Evaluating: 100%|██████████| 8/8 [00:00<00:00, 27.14it/s]\n"
     ]
    },
    {
     "name": "stdout",
     "output_type": "stream",
     "text": [
      "Epoch : 9, Train_loss : 0.8153372224639444, Train_acc : 0.7050601721306735, Val_acc : 0.707691059548921\n"
     ]
    },
    {
     "name": "stderr",
     "output_type": "stream",
     "text": [
      "Training: 100%|██████████| 170/170 [00:17<00:00,  9.98it/s]\n",
      "Evaluating: 100%|██████████| 8/8 [00:00<00:00, 26.47it/s]\n"
     ]
    },
    {
     "name": "stdout",
     "output_type": "stream",
     "text": [
      "Epoch : 10, Train_loss : 0.8071926365880405, Train_acc : 0.7077318602976098, Val_acc : 0.7091311049813402\n"
     ]
    },
    {
     "name": "stderr",
     "output_type": "stream",
     "text": [
      "Training: 100%|██████████| 170/170 [00:17<00:00,  9.91it/s]\n",
      "Evaluating: 100%|██████████| 8/8 [00:00<00:00, 27.22it/s]\n"
     ]
    },
    {
     "name": "stdout",
     "output_type": "stream",
     "text": [
      "Epoch : 11, Train_loss : 0.7989812048042522, Train_acc : 0.7103544784293383, Val_acc : 0.7110376440045433\n"
     ]
    },
    {
     "name": "stderr",
     "output_type": "stream",
     "text": [
      "Training: 100%|██████████| 170/170 [00:17<00:00,  9.81it/s]\n",
      "Evaluating: 100%|██████████| 8/8 [00:00<00:00, 28.33it/s]\n"
     ]
    },
    {
     "name": "stdout",
     "output_type": "stream",
     "text": [
      "Epoch : 12, Train_loss : 0.7918077837018406, Train_acc : 0.7124127911561776, Val_acc : 0.7128022067175077\n"
     ]
    },
    {
     "name": "stderr",
     "output_type": "stream",
     "text": [
      "Training: 100%|██████████| 170/170 [00:17<00:00,  9.80it/s]\n",
      "Evaluating: 100%|██████████| 8/8 [00:00<00:00, 26.32it/s]\n"
     ]
    },
    {
     "name": "stdout",
     "output_type": "stream",
     "text": [
      "Epoch : 13, Train_loss : 0.7852638395393596, Train_acc : 0.7148329953926742, Val_acc : 0.7141002758396885\n"
     ]
    },
    {
     "name": "stderr",
     "output_type": "stream",
     "text": [
      "Training: 100%|██████████| 170/170 [00:17<00:00,  9.90it/s]\n",
      "Evaluating: 100%|██████████| 8/8 [00:00<00:00, 26.29it/s]\n"
     ]
    },
    {
     "name": "stdout",
     "output_type": "stream",
     "text": [
      "Epoch : 14, Train_loss : 0.7797456958714654, Train_acc : 0.7165925066551235, Val_acc : 0.7144247931202337\n"
     ]
    },
    {
     "name": "stderr",
     "output_type": "stream",
     "text": [
      "Training: 100%|██████████| 170/170 [00:17<00:00,  9.98it/s]\n",
      "Evaluating: 100%|██████████| 8/8 [00:00<00:00, 22.37it/s]\n"
     ]
    },
    {
     "name": "stdout",
     "output_type": "stream",
     "text": [
      "Epoch : 15, Train_loss : 0.7742808503263137, Train_acc : 0.7184142317122113, Val_acc : 0.7128224890475418\n"
     ]
    },
    {
     "name": "stderr",
     "output_type": "stream",
     "text": [
      "Training: 100%|██████████| 170/170 [00:16<00:00, 10.05it/s]\n",
      "Evaluating: 100%|██████████| 8/8 [00:00<00:00, 26.83it/s]\n"
     ]
    },
    {
     "name": "stdout",
     "output_type": "stream",
     "text": [
      "Epoch : 16, Train_loss : 0.7698705080677481, Train_acc : 0.7203121905739968, Val_acc : 0.714810157390881\n"
     ]
    },
    {
     "name": "stderr",
     "output_type": "stream",
     "text": [
      "Training: 100%|██████████| 170/170 [00:17<00:00,  9.90it/s]\n",
      "Evaluating: 100%|██████████| 8/8 [00:00<00:00, 28.27it/s]\n"
     ]
    },
    {
     "name": "stdout",
     "output_type": "stream",
     "text": [
      "Epoch : 17, Train_loss : 0.7650006785112269, Train_acc : 0.7215310551985321, Val_acc : 0.7161893558331981\n"
     ]
    },
    {
     "name": "stderr",
     "output_type": "stream",
     "text": [
      "Training: 100%|██████████| 170/170 [00:17<00:00,  9.90it/s]\n",
      "Evaluating: 100%|██████████| 8/8 [00:00<00:00, 26.50it/s]\n"
     ]
    },
    {
     "name": "stdout",
     "output_type": "stream",
     "text": [
      "Epoch : 18, Train_loss : 0.7601605874650619, Train_acc : 0.723322111483615, Val_acc : 0.7171629076748337\n"
     ]
    },
    {
     "name": "stderr",
     "output_type": "stream",
     "text": [
      "Training: 100%|██████████| 170/170 [00:17<00:00,  9.95it/s]\n",
      "Evaluating: 100%|██████████| 8/8 [00:00<00:00, 28.22it/s]\n"
     ]
    },
    {
     "name": "stdout",
     "output_type": "stream",
     "text": [
      "Epoch : 19, Train_loss : 0.7556388244909399, Train_acc : 0.724662774945541, Val_acc : 0.7187043647574234\n"
     ]
    },
    {
     "name": "stderr",
     "output_type": "stream",
     "text": [
      "Training: 100%|██████████| 170/170 [00:17<00:00,  9.94it/s]\n",
      "Evaluating: 100%|██████████| 8/8 [00:00<00:00, 28.17it/s]\n"
     ]
    },
    {
     "name": "stdout",
     "output_type": "stream",
     "text": [
      "Epoch : 20, Train_loss : 0.7515072173932019, Train_acc : 0.7263127548794016, Val_acc : 0.7174062956352426\n"
     ]
    },
    {
     "name": "stderr",
     "output_type": "stream",
     "text": [
      "Training: 100%|██████████| 170/170 [00:16<00:00, 10.05it/s]\n",
      "Evaluating: 100%|██████████| 8/8 [00:00<00:00, 30.36it/s]\n"
     ]
    },
    {
     "name": "stdout",
     "output_type": "stream",
     "text": [
      "Epoch : 21, Train_loss : 0.7478662343586192, Train_acc : 0.7271819955030818, Val_acc : 0.7159459678727892\n"
     ]
    },
    {
     "name": "stderr",
     "output_type": "stream",
     "text": [
      "Training: 100%|██████████| 170/170 [00:17<00:00,  9.98it/s]\n",
      "Evaluating: 100%|██████████| 8/8 [00:00<00:00, 28.00it/s]\n"
     ]
    },
    {
     "name": "stdout",
     "output_type": "stream",
     "text": [
      "Epoch : 22, Train_loss : 0.7425321736756493, Train_acc : 0.7289143429960411, Val_acc : 0.7161285088430959\n"
     ]
    },
    {
     "name": "stderr",
     "output_type": "stream",
     "text": [
      "Training: 100%|██████████| 170/170 [00:17<00:00,  9.92it/s]\n",
      "Evaluating: 100%|██████████| 8/8 [00:00<00:00, 27.63it/s]\n"
     ]
    },
    {
     "name": "stdout",
     "output_type": "stream",
     "text": [
      "Epoch : 23, Train_loss : 0.7396789561299717, Train_acc : 0.7303435077714668, Val_acc : 0.719170858348207\n"
     ]
    },
    {
     "name": "stderr",
     "output_type": "stream",
     "text": [
      "Training: 100%|██████████| 170/170 [00:16<00:00, 10.05it/s]\n",
      "Evaluating: 100%|██████████| 8/8 [00:00<00:00, 27.37it/s]\n"
     ]
    },
    {
     "name": "stdout",
     "output_type": "stream",
     "text": [
      "Epoch : 24, Train_loss : 0.7356073067468756, Train_acc : 0.7317709200456352, Val_acc : 0.7179742008761967\n"
     ]
    },
    {
     "name": "stderr",
     "output_type": "stream",
     "text": [
      "Training: 100%|██████████| 170/170 [00:17<00:00,  9.98it/s]\n",
      "Evaluating: 100%|██████████| 8/8 [00:00<00:00, 28.16it/s]\n"
     ]
    },
    {
     "name": "stdout",
     "output_type": "stream",
     "text": [
      "Epoch : 25, Train_loss : 0.7318252703722785, Train_acc : 0.7328452033164333, Val_acc : 0.7168383903942885\n"
     ]
    },
    {
     "name": "stderr",
     "output_type": "stream",
     "text": [
      "Training: 100%|██████████| 170/170 [00:16<00:00, 10.02it/s]\n",
      "Evaluating: 100%|██████████| 8/8 [00:00<00:00, 27.75it/s]\n"
     ]
    },
    {
     "name": "stdout",
     "output_type": "stream",
     "text": [
      "Epoch : 26, Train_loss : 0.7282827720922582, Train_acc : 0.7338861890633407, Val_acc : 0.718075612526367\n"
     ]
    },
    {
     "name": "stderr",
     "output_type": "stream",
     "text": [
      "Training: 100%|██████████| 170/170 [00:17<00:00,  9.92it/s]\n",
      "Evaluating: 100%|██████████| 8/8 [00:00<00:00, 27.17it/s]\n"
     ]
    },
    {
     "name": "stdout",
     "output_type": "stream",
     "text": [
      "Epoch : 27, Train_loss : 0.7252011008122388, Train_acc : 0.7346134770851698, Val_acc : 0.7165950024338796\n"
     ]
    },
    {
     "name": "stderr",
     "output_type": "stream",
     "text": [
      "Training: 100%|██████████| 170/170 [00:17<00:00,  9.86it/s]\n",
      "Evaluating: 100%|██████████| 8/8 [00:00<00:00, 26.85it/s]\n"
     ]
    },
    {
     "name": "stdout",
     "output_type": "stream",
     "text": [
      "Epoch : 28, Train_loss : 0.7221328304094426, Train_acc : 0.7361162469134072, Val_acc : 0.7165950024338796\n"
     ]
    },
    {
     "name": "stderr",
     "output_type": "stream",
     "text": [
      "Training: 100%|██████████| 170/170 [00:16<00:00, 10.08it/s]\n",
      "Evaluating: 100%|██████████| 8/8 [00:00<00:00, 27.60it/s]\n"
     ]
    },
    {
     "name": "stdout",
     "output_type": "stream",
     "text": [
      "\n",
      " Early stopping triggered after 30 epochs!\n",
      "Best model was at epoch 20 with validation accuracy: 0.7187\n"
     ]
    }
   ],
   "source": [
    "gru_model = GRU_bidirec_model(output_dim=8).to(device)\n",
    "criterion = nn.CrossEntropyLoss(ignore_index=30)\n",
    "optimizer = torch.optim.Adam(gru_model.parameters(),lr=0.001)\n",
    "train_acc_history, val_acc_history, train_loss_history, val_loss_history = train_model(\n",
    "    gru_model, train_gen, val_gen, optimizer, criterion, num_epochs=EPOCHS,\n",
    "    patience=PATIENCE, min_delta=MIN_DELTA, save_best_model=True, model_save_path=\"saved_models/best_gru_model_q8.pth\",task=\"Q8\"\n",
    ")"
   ]
  },
  {
   "cell_type": "markdown",
   "metadata": {},
   "source": [
    "## Plotting and evaluating model"
   ]
  },
  {
   "cell_type": "code",
   "execution_count": 105,
   "metadata": {},
   "outputs": [
    {
     "data": {
      "image/png": "[encoded data removed]",
      "text/plain": [
       "<Figure size 1500x500 with 2 Axes>"
      ]
     },
     "metadata": {},
     "output_type": "display_data"
    },
    {
     "name": "stderr",
     "output_type": "stream",
     "text": [
      "Evaluating on test set: 100%|██████████| 9/9 [00:00<00:00, 17.13it/s]\n"
     ]
    },
    {
     "name": "stdout",
     "output_type": "stream",
     "text": [
      "\n",
      "Test Results:\n",
      "  Test Loss:     0.0388\n",
      "  Test Accuracy: 0.7167 (71.67%)\n"
     ]
    },
    {
     "data": {
      "image/png": "[encoded data removed]",
      "text/plain": [
       "<Figure size 800x600 with 2 Axes>"
      ]
     },
     "metadata": {},
     "output_type": "display_data"
    },
    {
     "name": "stdout",
     "output_type": "stream",
     "text": [
      "\n",
      "Per-Class Performance:\n",
      "  0: Precision=0.553, Recall=0.645, F1=0.596\n",
      "  1: Precision=0.000, Recall=0.000, F1=0.000\n",
      "  2: Precision=0.758, Recall=0.840, F1=0.797\n",
      "  3: Precision=0.491, Recall=0.231, F1=0.315\n",
      "  4: Precision=0.000, Recall=0.000, F1=0.000\n",
      "  5: Precision=0.870, Recall=0.923, F1=0.895\n",
      "  6: Precision=0.436, Recall=0.214, F1=0.287\n",
      "  7: Precision=0.561, Recall=0.546, F1=0.553\n"
     ]
    }
   ],
   "source": [
    "# Plot training results\n",
    "plot_training_results(train_acc_history, val_acc_history, train_loss_history, val_loss_history)\n",
    "# Evaluate the best model\n",
    "results = evaluate_best_model(\n",
    "    model_class=GRU_bidirec_model,\n",
    "    model_path=\"saved_models/best_gru_model_q8.pth\", \n",
    "    test_gen=test_gen,\n",
    "    criterion=criterion,\n",
    "    device=device,\n",
    "    task=\"Q8\"\n",
    ")\n",
    "results_dir[\"GRU_bidirec\"] = results"
   ]
  },
  {
   "cell_type": "markdown",
   "metadata": {},
   "source": [
    "We got worse performance on Q8 as expected as we had very less data points for certain classes.\n",
    "But, for 8 class classification, 71 % accuracy is decent."
   ]
  },
  {
   "cell_type": "markdown",
   "metadata": {},
   "source": []
  }
 ],
 "metadata": {
  "kernelspec": {
   "display_name": "base",
   "language": "python",
   "name": "python3"
  },
  "language_info": {
   "codemirror_mode": {
    "name": "ipython",
    "version": 3
   },
   "file_extension": ".py",
   "mimetype": "text/x-python",
   "name": "python",
   "nbconvert_exporter": "python",
   "pygments_lexer": "ipython3",
   "version": "3.12.7"
  }
 },
 "nbformat": 4,
 "nbformat_minor": 4
}
